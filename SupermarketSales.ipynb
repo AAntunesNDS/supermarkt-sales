{
 "cells": [
  {
   "cell_type": "markdown",
   "metadata": {},
   "source": [
    "https://www.kaggle.com/aungpyaeap/supermarket-sales#supermarket_sales%20-%20Sheet1.csv\n",
    "\n",
    "### Context\n",
    "#### The growth of supermarkets in most populated cities are increasing and market competitions are also high. The dataset is one of the historical sales of supermarket company which has recorded in 3 different branches for 3 months data. Predictive data analytics methods are easy to apply with this dataset.\n",
    "\n",
    "### Attribute information\n",
    "1. Invoice id: Computer generated sales slip invoice identification number\n",
    "2. Branch: Branch of supercenter (3 branches are available identified by A, B and C).\n",
    "3. City: Location of supercenters\n",
    "4. Customer type: Type of customers, recorded by Members for customers using member card and Normal for without member card.\n",
    "5. Gender: Gender type of customer\n",
    "6. Product line: General item categorization groups - Electronic accessories, Fashion accessories, Food and beverages, Health and beauty, Home and lifestyle, Sports and travel\n",
    "7. Unit price: Price of each product in Dolar\n",
    "8. Quantity: Number of products purchased by customer\n",
    "9. Tax: 5% tax fee for customer buying\n",
    "10. Total: Total price including tax\n",
    "11. Date: Date of purchase (Record available from January 2019 to March 2019)\n",
    "12. Time: Purchase time (10am to 9pm)\n",
    "13. Payment: Payment used by customer for purchase (3 methods are available – Cash, Credit card and Ewallet)\n",
    "14. COGS: Cost of goods sold\n",
    "15. Gross margin percentage: Gross margin percentage\n",
    "16. Gross income: Gross income\n",
    "17. Rating: Customer stratification rating on their overall shopping experience (On a scale of 1 to 10)\n",
    "\n",
    "#### Acknowledgements\n",
    "#### Thanks to all who take time and energy to perform Kernels with this dataset and reviewers.\n",
    "\n",
    "#### Purpose\n",
    "#### This dataset can be used for predictive data analytics purpose."
   ]
  },
  {
   "cell_type": "code",
   "execution_count": 1,
   "metadata": {},
   "outputs": [],
   "source": [
    "import pandas as pd\n",
    "import numpy as np\n",
    "from matplotlib import pyplot as plt\n",
    "import seaborn as sns"
   ]
  },
  {
   "cell_type": "code",
   "execution_count": 2,
   "metadata": {},
   "outputs": [
    {
     "name": "stdout",
     "output_type": "stream",
     "text": [
      "3.6.9\n"
     ]
    }
   ],
   "source": [
    "from platform import python_version\n",
    "\n",
    "print(python_version())"
   ]
  },
  {
   "cell_type": "code",
   "execution_count": 3,
   "metadata": {},
   "outputs": [
    {
     "data": {
      "text/html": [
       "<div>\n",
       "<style scoped>\n",
       "    .dataframe tbody tr th:only-of-type {\n",
       "        vertical-align: middle;\n",
       "    }\n",
       "\n",
       "    .dataframe tbody tr th {\n",
       "        vertical-align: top;\n",
       "    }\n",
       "\n",
       "    .dataframe thead th {\n",
       "        text-align: right;\n",
       "    }\n",
       "</style>\n",
       "<table border=\"1\" class=\"dataframe\">\n",
       "  <thead>\n",
       "    <tr style=\"text-align: right;\">\n",
       "      <th></th>\n",
       "      <th>City</th>\n",
       "      <th>Customer type</th>\n",
       "      <th>Gender</th>\n",
       "      <th>Product line</th>\n",
       "      <th>Unit price</th>\n",
       "      <th>Quantity</th>\n",
       "      <th>Tax 5%</th>\n",
       "      <th>Total</th>\n",
       "      <th>Date</th>\n",
       "      <th>Payment</th>\n",
       "      <th>cogs</th>\n",
       "      <th>gross margin percentage</th>\n",
       "      <th>gross income</th>\n",
       "      <th>Rating</th>\n",
       "      <th>Date_time</th>\n",
       "    </tr>\n",
       "  </thead>\n",
       "  <tbody>\n",
       "    <tr>\n",
       "      <th>995</th>\n",
       "      <td>Naypyitaw</td>\n",
       "      <td>Normal</td>\n",
       "      <td>Male</td>\n",
       "      <td>Health and beauty</td>\n",
       "      <td>40.35</td>\n",
       "      <td>1</td>\n",
       "      <td>2.0175</td>\n",
       "      <td>42.3675</td>\n",
       "      <td>2019-01-29</td>\n",
       "      <td>Ewallet</td>\n",
       "      <td>40.35</td>\n",
       "      <td>4.761905</td>\n",
       "      <td>2.0175</td>\n",
       "      <td>6.2</td>\n",
       "      <td>2019-01-29 13:46:00</td>\n",
       "    </tr>\n",
       "    <tr>\n",
       "      <th>996</th>\n",
       "      <td>Mandalay</td>\n",
       "      <td>Normal</td>\n",
       "      <td>Female</td>\n",
       "      <td>Home and lifestyle</td>\n",
       "      <td>97.38</td>\n",
       "      <td>10</td>\n",
       "      <td>48.6900</td>\n",
       "      <td>1022.4900</td>\n",
       "      <td>2019-03-02</td>\n",
       "      <td>Ewallet</td>\n",
       "      <td>973.80</td>\n",
       "      <td>4.761905</td>\n",
       "      <td>48.6900</td>\n",
       "      <td>4.4</td>\n",
       "      <td>2019-03-02 17:16:00</td>\n",
       "    </tr>\n",
       "    <tr>\n",
       "      <th>997</th>\n",
       "      <td>Yangon</td>\n",
       "      <td>Member</td>\n",
       "      <td>Male</td>\n",
       "      <td>Food and beverages</td>\n",
       "      <td>31.84</td>\n",
       "      <td>1</td>\n",
       "      <td>1.5920</td>\n",
       "      <td>33.4320</td>\n",
       "      <td>2019-02-09</td>\n",
       "      <td>Cash</td>\n",
       "      <td>31.84</td>\n",
       "      <td>4.761905</td>\n",
       "      <td>1.5920</td>\n",
       "      <td>7.7</td>\n",
       "      <td>2019-02-09 13:22:00</td>\n",
       "    </tr>\n",
       "    <tr>\n",
       "      <th>998</th>\n",
       "      <td>Yangon</td>\n",
       "      <td>Normal</td>\n",
       "      <td>Male</td>\n",
       "      <td>Home and lifestyle</td>\n",
       "      <td>65.82</td>\n",
       "      <td>1</td>\n",
       "      <td>3.2910</td>\n",
       "      <td>69.1110</td>\n",
       "      <td>2019-02-22</td>\n",
       "      <td>Cash</td>\n",
       "      <td>65.82</td>\n",
       "      <td>4.761905</td>\n",
       "      <td>3.2910</td>\n",
       "      <td>4.1</td>\n",
       "      <td>2019-02-22 15:33:00</td>\n",
       "    </tr>\n",
       "    <tr>\n",
       "      <th>999</th>\n",
       "      <td>Yangon</td>\n",
       "      <td>Member</td>\n",
       "      <td>Female</td>\n",
       "      <td>Fashion accessories</td>\n",
       "      <td>88.34</td>\n",
       "      <td>7</td>\n",
       "      <td>30.9190</td>\n",
       "      <td>649.2990</td>\n",
       "      <td>2019-02-18</td>\n",
       "      <td>Cash</td>\n",
       "      <td>618.38</td>\n",
       "      <td>4.761905</td>\n",
       "      <td>30.9190</td>\n",
       "      <td>6.6</td>\n",
       "      <td>2019-02-18 13:28:00</td>\n",
       "    </tr>\n",
       "  </tbody>\n",
       "</table>\n",
       "</div>"
      ],
      "text/plain": [
       "          City Customer type  Gender         Product line  Unit price  \\\n",
       "995  Naypyitaw        Normal    Male    Health and beauty       40.35   \n",
       "996   Mandalay        Normal  Female   Home and lifestyle       97.38   \n",
       "997     Yangon        Member    Male   Food and beverages       31.84   \n",
       "998     Yangon        Normal    Male   Home and lifestyle       65.82   \n",
       "999     Yangon        Member  Female  Fashion accessories       88.34   \n",
       "\n",
       "     Quantity   Tax 5%      Total       Date  Payment    cogs  \\\n",
       "995         1   2.0175    42.3675 2019-01-29  Ewallet   40.35   \n",
       "996        10  48.6900  1022.4900 2019-03-02  Ewallet  973.80   \n",
       "997         1   1.5920    33.4320 2019-02-09     Cash   31.84   \n",
       "998         1   3.2910    69.1110 2019-02-22     Cash   65.82   \n",
       "999         7  30.9190   649.2990 2019-02-18     Cash  618.38   \n",
       "\n",
       "     gross margin percentage  gross income  Rating           Date_time  \n",
       "995                 4.761905        2.0175     6.2 2019-01-29 13:46:00  \n",
       "996                 4.761905       48.6900     4.4 2019-03-02 17:16:00  \n",
       "997                 4.761905        1.5920     7.7 2019-02-09 13:22:00  \n",
       "998                 4.761905        3.2910     4.1 2019-02-22 15:33:00  \n",
       "999                 4.761905       30.9190     6.6 2019-02-18 13:28:00  "
      ]
     },
     "execution_count": 3,
     "metadata": {},
     "output_type": "execute_result"
    }
   ],
   "source": [
    "data = pd.read_csv(\"Datas/supermarket-sales/supermarket_sales - Sheet1.csv\")\n",
    "\n",
    "# id da compra dispensaveel\n",
    "data = data.drop('Invoice ID', axis = 1)\n",
    "\n",
    "# create date time columns\n",
    "data['Date_time'] = data['Date'] + ' ' + data['Time']\n",
    "\n",
    "# remove date and time separeted\n",
    "data = data.drop('Time', axis = 1)\n",
    "#data = data.drop('Date', axis = 1)\n",
    "\n",
    "data['Date_time'] = data['Date_time'].astype('datetime64[ns]')\n",
    "data['Date'] = data['Date'].astype('datetime64[ns]')\n",
    "\n",
    "# branch=city | Branch dispensaveel\n",
    "data = data.drop('Branch', axis = 1)\n",
    "\n",
    "data.tail()"
   ]
  },
  {
   "cell_type": "code",
   "execution_count": 4,
   "metadata": {},
   "outputs": [
    {
     "data": {
      "text/plain": [
       "City                       1000\n",
       "Customer type              1000\n",
       "Gender                     1000\n",
       "Product line               1000\n",
       "Unit price                 1000\n",
       "Quantity                   1000\n",
       "Tax 5%                     1000\n",
       "Total                      1000\n",
       "Date                       1000\n",
       "Payment                    1000\n",
       "cogs                       1000\n",
       "gross margin percentage    1000\n",
       "gross income               1000\n",
       "Rating                     1000\n",
       "Date_time                  1000\n",
       "dtype: int64"
      ]
     },
     "execution_count": 4,
     "metadata": {},
     "output_type": "execute_result"
    }
   ],
   "source": [
    "data.count()"
   ]
  },
  {
   "cell_type": "code",
   "execution_count": 5,
   "metadata": {},
   "outputs": [
    {
     "name": "stdout",
     "output_type": "stream",
     "text": [
      "<class 'pandas.core.frame.DataFrame'>\n",
      "RangeIndex: 1000 entries, 0 to 999\n",
      "Data columns (total 15 columns):\n",
      " #   Column                   Non-Null Count  Dtype         \n",
      "---  ------                   --------------  -----         \n",
      " 0   City                     1000 non-null   object        \n",
      " 1   Customer type            1000 non-null   object        \n",
      " 2   Gender                   1000 non-null   object        \n",
      " 3   Product line             1000 non-null   object        \n",
      " 4   Unit price               1000 non-null   float64       \n",
      " 5   Quantity                 1000 non-null   int64         \n",
      " 6   Tax 5%                   1000 non-null   float64       \n",
      " 7   Total                    1000 non-null   float64       \n",
      " 8   Date                     1000 non-null   datetime64[ns]\n",
      " 9   Payment                  1000 non-null   object        \n",
      " 10  cogs                     1000 non-null   float64       \n",
      " 11  gross margin percentage  1000 non-null   float64       \n",
      " 12  gross income             1000 non-null   float64       \n",
      " 13  Rating                   1000 non-null   float64       \n",
      " 14  Date_time                1000 non-null   datetime64[ns]\n",
      "dtypes: datetime64[ns](2), float64(7), int64(1), object(5)\n",
      "memory usage: 117.3+ KB\n"
     ]
    }
   ],
   "source": [
    "data.info()"
   ]
  },
  {
   "cell_type": "code",
   "execution_count": 6,
   "metadata": {},
   "outputs": [
    {
     "data": {
      "text/html": [
       "<div>\n",
       "<style scoped>\n",
       "    .dataframe tbody tr th:only-of-type {\n",
       "        vertical-align: middle;\n",
       "    }\n",
       "\n",
       "    .dataframe tbody tr th {\n",
       "        vertical-align: top;\n",
       "    }\n",
       "\n",
       "    .dataframe thead th {\n",
       "        text-align: right;\n",
       "    }\n",
       "</style>\n",
       "<table border=\"1\" class=\"dataframe\">\n",
       "  <thead>\n",
       "    <tr style=\"text-align: right;\">\n",
       "      <th></th>\n",
       "      <th>Unit price</th>\n",
       "      <th>Quantity</th>\n",
       "      <th>Tax 5%</th>\n",
       "      <th>Total</th>\n",
       "      <th>cogs</th>\n",
       "      <th>gross margin percentage</th>\n",
       "      <th>gross income</th>\n",
       "      <th>Rating</th>\n",
       "    </tr>\n",
       "  </thead>\n",
       "  <tbody>\n",
       "    <tr>\n",
       "      <th>count</th>\n",
       "      <td>1000.000000</td>\n",
       "      <td>1000.000000</td>\n",
       "      <td>1000.000000</td>\n",
       "      <td>1000.000000</td>\n",
       "      <td>1000.00000</td>\n",
       "      <td>1000.000000</td>\n",
       "      <td>1000.000000</td>\n",
       "      <td>1000.00000</td>\n",
       "    </tr>\n",
       "    <tr>\n",
       "      <th>mean</th>\n",
       "      <td>55.672130</td>\n",
       "      <td>5.510000</td>\n",
       "      <td>15.379369</td>\n",
       "      <td>322.966749</td>\n",
       "      <td>307.58738</td>\n",
       "      <td>4.761905</td>\n",
       "      <td>15.379369</td>\n",
       "      <td>6.97270</td>\n",
       "    </tr>\n",
       "    <tr>\n",
       "      <th>std</th>\n",
       "      <td>26.494628</td>\n",
       "      <td>2.923431</td>\n",
       "      <td>11.708825</td>\n",
       "      <td>245.885335</td>\n",
       "      <td>234.17651</td>\n",
       "      <td>0.000000</td>\n",
       "      <td>11.708825</td>\n",
       "      <td>1.71858</td>\n",
       "    </tr>\n",
       "    <tr>\n",
       "      <th>min</th>\n",
       "      <td>10.080000</td>\n",
       "      <td>1.000000</td>\n",
       "      <td>0.508500</td>\n",
       "      <td>10.678500</td>\n",
       "      <td>10.17000</td>\n",
       "      <td>4.761905</td>\n",
       "      <td>0.508500</td>\n",
       "      <td>4.00000</td>\n",
       "    </tr>\n",
       "    <tr>\n",
       "      <th>25%</th>\n",
       "      <td>32.875000</td>\n",
       "      <td>3.000000</td>\n",
       "      <td>5.924875</td>\n",
       "      <td>124.422375</td>\n",
       "      <td>118.49750</td>\n",
       "      <td>4.761905</td>\n",
       "      <td>5.924875</td>\n",
       "      <td>5.50000</td>\n",
       "    </tr>\n",
       "    <tr>\n",
       "      <th>50%</th>\n",
       "      <td>55.230000</td>\n",
       "      <td>5.000000</td>\n",
       "      <td>12.088000</td>\n",
       "      <td>253.848000</td>\n",
       "      <td>241.76000</td>\n",
       "      <td>4.761905</td>\n",
       "      <td>12.088000</td>\n",
       "      <td>7.00000</td>\n",
       "    </tr>\n",
       "    <tr>\n",
       "      <th>75%</th>\n",
       "      <td>77.935000</td>\n",
       "      <td>8.000000</td>\n",
       "      <td>22.445250</td>\n",
       "      <td>471.350250</td>\n",
       "      <td>448.90500</td>\n",
       "      <td>4.761905</td>\n",
       "      <td>22.445250</td>\n",
       "      <td>8.50000</td>\n",
       "    </tr>\n",
       "    <tr>\n",
       "      <th>max</th>\n",
       "      <td>99.960000</td>\n",
       "      <td>10.000000</td>\n",
       "      <td>49.650000</td>\n",
       "      <td>1042.650000</td>\n",
       "      <td>993.00000</td>\n",
       "      <td>4.761905</td>\n",
       "      <td>49.650000</td>\n",
       "      <td>10.00000</td>\n",
       "    </tr>\n",
       "  </tbody>\n",
       "</table>\n",
       "</div>"
      ],
      "text/plain": [
       "        Unit price     Quantity       Tax 5%        Total        cogs  \\\n",
       "count  1000.000000  1000.000000  1000.000000  1000.000000  1000.00000   \n",
       "mean     55.672130     5.510000    15.379369   322.966749   307.58738   \n",
       "std      26.494628     2.923431    11.708825   245.885335   234.17651   \n",
       "min      10.080000     1.000000     0.508500    10.678500    10.17000   \n",
       "25%      32.875000     3.000000     5.924875   124.422375   118.49750   \n",
       "50%      55.230000     5.000000    12.088000   253.848000   241.76000   \n",
       "75%      77.935000     8.000000    22.445250   471.350250   448.90500   \n",
       "max      99.960000    10.000000    49.650000  1042.650000   993.00000   \n",
       "\n",
       "       gross margin percentage  gross income      Rating  \n",
       "count              1000.000000   1000.000000  1000.00000  \n",
       "mean                  4.761905     15.379369     6.97270  \n",
       "std                   0.000000     11.708825     1.71858  \n",
       "min                   4.761905      0.508500     4.00000  \n",
       "25%                   4.761905      5.924875     5.50000  \n",
       "50%                   4.761905     12.088000     7.00000  \n",
       "75%                   4.761905     22.445250     8.50000  \n",
       "max                   4.761905     49.650000    10.00000  "
      ]
     },
     "execution_count": 6,
     "metadata": {},
     "output_type": "execute_result"
    }
   ],
   "source": [
    "data.describe()"
   ]
  },
  {
   "cell_type": "code",
   "execution_count": 7,
   "metadata": {},
   "outputs": [
    {
     "data": {
      "text/html": [
       "<div>\n",
       "<style scoped>\n",
       "    .dataframe tbody tr th:only-of-type {\n",
       "        vertical-align: middle;\n",
       "    }\n",
       "\n",
       "    .dataframe tbody tr th {\n",
       "        vertical-align: top;\n",
       "    }\n",
       "\n",
       "    .dataframe thead th {\n",
       "        text-align: right;\n",
       "    }\n",
       "</style>\n",
       "<table border=\"1\" class=\"dataframe\">\n",
       "  <thead>\n",
       "    <tr style=\"text-align: right;\">\n",
       "      <th></th>\n",
       "      <th>City</th>\n",
       "      <th>Customer type</th>\n",
       "      <th>Gender</th>\n",
       "      <th>Product line</th>\n",
       "      <th>Payment</th>\n",
       "    </tr>\n",
       "  </thead>\n",
       "  <tbody>\n",
       "    <tr>\n",
       "      <th>count</th>\n",
       "      <td>1000</td>\n",
       "      <td>1000</td>\n",
       "      <td>1000</td>\n",
       "      <td>1000</td>\n",
       "      <td>1000</td>\n",
       "    </tr>\n",
       "    <tr>\n",
       "      <th>unique</th>\n",
       "      <td>3</td>\n",
       "      <td>2</td>\n",
       "      <td>2</td>\n",
       "      <td>6</td>\n",
       "      <td>3</td>\n",
       "    </tr>\n",
       "    <tr>\n",
       "      <th>top</th>\n",
       "      <td>Yangon</td>\n",
       "      <td>Member</td>\n",
       "      <td>Female</td>\n",
       "      <td>Fashion accessories</td>\n",
       "      <td>Ewallet</td>\n",
       "    </tr>\n",
       "    <tr>\n",
       "      <th>freq</th>\n",
       "      <td>340</td>\n",
       "      <td>501</td>\n",
       "      <td>501</td>\n",
       "      <td>178</td>\n",
       "      <td>345</td>\n",
       "    </tr>\n",
       "  </tbody>\n",
       "</table>\n",
       "</div>"
      ],
      "text/plain": [
       "          City Customer type  Gender         Product line  Payment\n",
       "count     1000          1000    1000                 1000     1000\n",
       "unique       3             2       2                    6        3\n",
       "top     Yangon        Member  Female  Fashion accessories  Ewallet\n",
       "freq       340           501     501                  178      345"
      ]
     },
     "execution_count": 7,
     "metadata": {},
     "output_type": "execute_result"
    }
   ],
   "source": [
    "data.describe(include='O')"
   ]
  },
  {
   "cell_type": "markdown",
   "metadata": {},
   "source": [
    "#### Functions to make bar chart for each proposing correlation"
   ]
  },
  {
   "cell_type": "code",
   "execution_count": 8,
   "metadata": {},
   "outputs": [],
   "source": [
    "def bar(index, dataframe, sclayY):\n",
    "    value_1 = [np.array(dataframe)[0][1]]\n",
    "    value_2 = [np.array(dataframe)[1][1]]\n",
    "    index = [str(index)]\n",
    "    df = pd.DataFrame({str(np.array(dataframe)[0][0]): value_1,\n",
    "                       str(np.array(dataframe)[1][0]): value_2}, index=index)\n",
    "    return df.plot.bar(rot=0, fontsize=15, logy=sclayY)\n",
    "\n",
    "def bar3(index, dataframe, sclayY):\n",
    "    value_1 = [np.array(dataframe)[0][1]]\n",
    "    value_2 = [np.array(dataframe)[1][1]]\n",
    "    value_3 = [np.array(dataframe)[2][1]]\n",
    "    index = [str(index)]\n",
    "    df = pd.DataFrame({str(np.array(dataframe)[0][0]): value_1,\n",
    "                       str(np.array(dataframe)[1][0]): value_2,\n",
    "                       str(np.array(dataframe)[2][0]): value_3}, index=index)\n",
    "    return df.plot.bar(rot=0, fontsize=15, logy=sclayY)"
   ]
  },
  {
   "cell_type": "markdown",
   "metadata": {},
   "source": [
    "##### Some graphs relation"
   ]
  },
  {
   "cell_type": "code",
   "execution_count": 9,
   "metadata": {},
   "outputs": [
    {
     "data": {
      "image/png": "[encoded data removed]",
      "text/plain": [
       "<Figure size 432x288 with 1 Axes>"
      ]
     },
     "metadata": {
      "needs_background": "light"
     },
     "output_type": "display_data"
    }
   ],
   "source": [
    "data['Gender'].value_counts().plot(kind='bar');"
   ]
  },
  {
   "cell_type": "code",
   "execution_count": 10,
   "metadata": {},
   "outputs": [
    {
     "data": {
      "text/html": [
       "<div>\n",
       "<style scoped>\n",
       "    .dataframe tbody tr th:only-of-type {\n",
       "        vertical-align: middle;\n",
       "    }\n",
       "\n",
       "    .dataframe tbody tr th {\n",
       "        vertical-align: top;\n",
       "    }\n",
       "\n",
       "    .dataframe thead th {\n",
       "        text-align: right;\n",
       "    }\n",
       "</style>\n",
       "<table border=\"1\" class=\"dataframe\">\n",
       "  <thead>\n",
       "    <tr style=\"text-align: right;\">\n",
       "      <th></th>\n",
       "      <th>Gender</th>\n",
       "      <th>Rating</th>\n",
       "    </tr>\n",
       "  </thead>\n",
       "  <tbody>\n",
       "    <tr>\n",
       "      <th>0</th>\n",
       "      <td>Female</td>\n",
       "      <td>6.964471</td>\n",
       "    </tr>\n",
       "    <tr>\n",
       "      <th>1</th>\n",
       "      <td>Male</td>\n",
       "      <td>6.980962</td>\n",
       "    </tr>\n",
       "  </tbody>\n",
       "</table>\n",
       "</div>"
      ],
      "text/plain": [
       "   Gender    Rating\n",
       "0  Female  6.964471\n",
       "1    Male  6.980962"
      ]
     },
     "execution_count": 10,
     "metadata": {},
     "output_type": "execute_result"
    }
   ],
   "source": [
    "data_gender_rating = data.groupby('Gender', as_index=False).Rating.mean()\n",
    "data_gender_rating"
   ]
  },
  {
   "cell_type": "code",
   "execution_count": 11,
   "metadata": {},
   "outputs": [
    {
     "data": {
      "text/plain": [
       "<matplotlib.axes._subplots.AxesSubplot at 0x7f28a60ab0f0>"
      ]
     },
     "execution_count": 11,
     "metadata": {},
     "output_type": "execute_result"
    },
    {
     "data": {
      "image/png": "[encoded data removed]",
      "text/plain": [
       "<Figure size 432x288 with 1 Axes>"
      ]
     },
     "metadata": {
      "needs_background": "light"
     },
     "output_type": "display_data"
    }
   ],
   "source": [
    "bar(\"Rating gender mean\", data_gender_rating, True)"
   ]
  },
  {
   "cell_type": "code",
   "execution_count": 12,
   "metadata": {},
   "outputs": [
    {
     "data": {
      "text/html": [
       "<div>\n",
       "<style scoped>\n",
       "    .dataframe tbody tr th:only-of-type {\n",
       "        vertical-align: middle;\n",
       "    }\n",
       "\n",
       "    .dataframe tbody tr th {\n",
       "        vertical-align: top;\n",
       "    }\n",
       "\n",
       "    .dataframe thead th {\n",
       "        text-align: right;\n",
       "    }\n",
       "</style>\n",
       "<table border=\"1\" class=\"dataframe\">\n",
       "  <thead>\n",
       "    <tr style=\"text-align: right;\">\n",
       "      <th></th>\n",
       "      <th>Customer type</th>\n",
       "      <th>Rating</th>\n",
       "    </tr>\n",
       "  </thead>\n",
       "  <tbody>\n",
       "    <tr>\n",
       "      <th>0</th>\n",
       "      <td>Member</td>\n",
       "      <td>6.940319</td>\n",
       "    </tr>\n",
       "    <tr>\n",
       "      <th>1</th>\n",
       "      <td>Normal</td>\n",
       "      <td>7.005210</td>\n",
       "    </tr>\n",
       "  </tbody>\n",
       "</table>\n",
       "</div>"
      ],
      "text/plain": [
       "  Customer type    Rating\n",
       "0        Member  6.940319\n",
       "1        Normal  7.005210"
      ]
     },
     "execution_count": 12,
     "metadata": {},
     "output_type": "execute_result"
    }
   ],
   "source": [
    "data_customertype_rating = data.groupby('Customer type', as_index=False).Rating.mean()\n",
    "data_customertype_rating"
   ]
  },
  {
   "cell_type": "code",
   "execution_count": 13,
   "metadata": {},
   "outputs": [
    {
     "data": {
      "text/plain": [
       "<matplotlib.axes._subplots.AxesSubplot at 0x7f28a60ab240>"
      ]
     },
     "execution_count": 13,
     "metadata": {},
     "output_type": "execute_result"
    },
    {
     "data": {
      "image/png": "[encoded data removed]",
      "text/plain": [
       "<Figure size 432x288 with 1 Axes>"
      ]
     },
     "metadata": {
      "needs_background": "light"
     },
     "output_type": "display_data"
    }
   ],
   "source": [
    "bar(\"Rating type costumer mean\", data_customertype_rating, True)"
   ]
  },
  {
   "cell_type": "code",
   "execution_count": 14,
   "metadata": {},
   "outputs": [
    {
     "data": {
      "text/html": [
       "<div>\n",
       "<style scoped>\n",
       "    .dataframe tbody tr th:only-of-type {\n",
       "        vertical-align: middle;\n",
       "    }\n",
       "\n",
       "    .dataframe tbody tr th {\n",
       "        vertical-align: top;\n",
       "    }\n",
       "\n",
       "    .dataframe thead th {\n",
       "        text-align: right;\n",
       "    }\n",
       "</style>\n",
       "<table border=\"1\" class=\"dataframe\">\n",
       "  <thead>\n",
       "    <tr style=\"text-align: right;\">\n",
       "      <th></th>\n",
       "      <th>Gender</th>\n",
       "      <th>Quantity</th>\n",
       "    </tr>\n",
       "  </thead>\n",
       "  <tbody>\n",
       "    <tr>\n",
       "      <th>0</th>\n",
       "      <td>Female</td>\n",
       "      <td>501</td>\n",
       "    </tr>\n",
       "    <tr>\n",
       "      <th>1</th>\n",
       "      <td>Male</td>\n",
       "      <td>499</td>\n",
       "    </tr>\n",
       "  </tbody>\n",
       "</table>\n",
       "</div>"
      ],
      "text/plain": [
       "   Gender  Quantity\n",
       "0  Female       501\n",
       "1    Male       499"
      ]
     },
     "execution_count": 14,
     "metadata": {},
     "output_type": "execute_result"
    }
   ],
   "source": [
    "data_gender_quantity = data.groupby('Gender', as_index=False).Quantity.count()\n",
    "data_gender_quantity"
   ]
  },
  {
   "cell_type": "code",
   "execution_count": 15,
   "metadata": {},
   "outputs": [
    {
     "data": {
      "text/plain": [
       "<matplotlib.axes._subplots.AxesSubplot at 0x7f28a387af98>"
      ]
     },
     "execution_count": 15,
     "metadata": {},
     "output_type": "execute_result"
    },
    {
     "data": {
      "image/png": "[encoded data removed]",
      "text/plain": [
       "<Figure size 432x288 with 1 Axes>"
      ]
     },
     "metadata": {
      "needs_background": "light"
     },
     "output_type": "display_data"
    }
   ],
   "source": [
    "bar(\"Data Gender Quantity\", data_gender_quantity, False)"
   ]
  },
  {
   "cell_type": "code",
   "execution_count": 16,
   "metadata": {},
   "outputs": [
    {
     "data": {
      "text/html": [
       "<div>\n",
       "<style scoped>\n",
       "    .dataframe tbody tr th:only-of-type {\n",
       "        vertical-align: middle;\n",
       "    }\n",
       "\n",
       "    .dataframe tbody tr th {\n",
       "        vertical-align: top;\n",
       "    }\n",
       "\n",
       "    .dataframe thead th {\n",
       "        text-align: right;\n",
       "    }\n",
       "</style>\n",
       "<table border=\"1\" class=\"dataframe\">\n",
       "  <thead>\n",
       "    <tr style=\"text-align: right;\">\n",
       "      <th></th>\n",
       "      <th>Payment</th>\n",
       "      <th>Quantity</th>\n",
       "    </tr>\n",
       "  </thead>\n",
       "  <tbody>\n",
       "    <tr>\n",
       "      <th>0</th>\n",
       "      <td>Cash</td>\n",
       "      <td>344</td>\n",
       "    </tr>\n",
       "    <tr>\n",
       "      <th>1</th>\n",
       "      <td>Credit card</td>\n",
       "      <td>311</td>\n",
       "    </tr>\n",
       "    <tr>\n",
       "      <th>2</th>\n",
       "      <td>Ewallet</td>\n",
       "      <td>345</td>\n",
       "    </tr>\n",
       "  </tbody>\n",
       "</table>\n",
       "</div>"
      ],
      "text/plain": [
       "       Payment  Quantity\n",
       "0         Cash       344\n",
       "1  Credit card       311\n",
       "2      Ewallet       345"
      ]
     },
     "execution_count": 16,
     "metadata": {},
     "output_type": "execute_result"
    }
   ],
   "source": [
    "data_qtt_paymnt = data.groupby('Payment', as_index=False).Quantity.count()\n",
    "data_qtt_paymnt"
   ]
  },
  {
   "cell_type": "code",
   "execution_count": 17,
   "metadata": {},
   "outputs": [
    {
     "data": {
      "text/plain": [
       "<matplotlib.axes._subplots.AxesSubplot at 0x7f28a37c44a8>"
      ]
     },
     "execution_count": 17,
     "metadata": {},
     "output_type": "execute_result"
    },
    {
     "data": {
      "image/png": "[encoded data removed]",
      "text/plain": [
       "<Figure size 432x288 with 1 Axes>"
      ]
     },
     "metadata": {
      "needs_background": "light"
     },
     "output_type": "display_data"
    }
   ],
   "source": [
    "bar3(\"data_qtt_paymnt\", data_qtt_paymnt, False)"
   ]
  },
  {
   "cell_type": "code",
   "execution_count": 18,
   "metadata": {},
   "outputs": [
    {
     "data": {
      "text/html": [
       "<div>\n",
       "<style scoped>\n",
       "    .dataframe tbody tr th:only-of-type {\n",
       "        vertical-align: middle;\n",
       "    }\n",
       "\n",
       "    .dataframe tbody tr th {\n",
       "        vertical-align: top;\n",
       "    }\n",
       "\n",
       "    .dataframe thead th {\n",
       "        text-align: right;\n",
       "    }\n",
       "</style>\n",
       "<table border=\"1\" class=\"dataframe\">\n",
       "  <thead>\n",
       "    <tr style=\"text-align: right;\">\n",
       "      <th></th>\n",
       "      <th>City</th>\n",
       "      <th>Quantity</th>\n",
       "    </tr>\n",
       "  </thead>\n",
       "  <tbody>\n",
       "    <tr>\n",
       "      <th>0</th>\n",
       "      <td>Mandalay</td>\n",
       "      <td>332</td>\n",
       "    </tr>\n",
       "    <tr>\n",
       "      <th>1</th>\n",
       "      <td>Naypyitaw</td>\n",
       "      <td>328</td>\n",
       "    </tr>\n",
       "    <tr>\n",
       "      <th>2</th>\n",
       "      <td>Yangon</td>\n",
       "      <td>340</td>\n",
       "    </tr>\n",
       "  </tbody>\n",
       "</table>\n",
       "</div>"
      ],
      "text/plain": [
       "        City  Quantity\n",
       "0   Mandalay       332\n",
       "1  Naypyitaw       328\n",
       "2     Yangon       340"
      ]
     },
     "execution_count": 18,
     "metadata": {},
     "output_type": "execute_result"
    }
   ],
   "source": [
    "data_qtt_city = data.groupby('City', as_index=False).Quantity.count()\n",
    "data_qtt_city"
   ]
  },
  {
   "cell_type": "code",
   "execution_count": 19,
   "metadata": {},
   "outputs": [
    {
     "data": {
      "text/plain": [
       "<matplotlib.axes._subplots.AxesSubplot at 0x7f28a3736cc0>"
      ]
     },
     "execution_count": 19,
     "metadata": {},
     "output_type": "execute_result"
    },
    {
     "data": {
      "image/png": "[encoded data removed]",
      "text/plain": [
       "<Figure size 432x288 with 1 Axes>"
      ]
     },
     "metadata": {
      "needs_background": "light"
     },
     "output_type": "display_data"
    }
   ],
   "source": [
    "bar3(\"data_qtt_city\", data_qtt_paymnt, False)"
   ]
  },
  {
   "cell_type": "code",
   "execution_count": 20,
   "metadata": {},
   "outputs": [
    {
     "data": {
      "text/html": [
       "<div>\n",
       "<style scoped>\n",
       "    .dataframe tbody tr th:only-of-type {\n",
       "        vertical-align: middle;\n",
       "    }\n",
       "\n",
       "    .dataframe tbody tr th {\n",
       "        vertical-align: top;\n",
       "    }\n",
       "\n",
       "    .dataframe thead th {\n",
       "        text-align: right;\n",
       "    }\n",
       "</style>\n",
       "<table border=\"1\" class=\"dataframe\">\n",
       "  <thead>\n",
       "    <tr style=\"text-align: right;\">\n",
       "      <th></th>\n",
       "      <th>Customer type</th>\n",
       "      <th>Quantity</th>\n",
       "    </tr>\n",
       "  </thead>\n",
       "  <tbody>\n",
       "    <tr>\n",
       "      <th>0</th>\n",
       "      <td>Member</td>\n",
       "      <td>501</td>\n",
       "    </tr>\n",
       "    <tr>\n",
       "      <th>1</th>\n",
       "      <td>Normal</td>\n",
       "      <td>499</td>\n",
       "    </tr>\n",
       "  </tbody>\n",
       "</table>\n",
       "</div>"
      ],
      "text/plain": [
       "  Customer type  Quantity\n",
       "0        Member       501\n",
       "1        Normal       499"
      ]
     },
     "execution_count": 20,
     "metadata": {},
     "output_type": "execute_result"
    }
   ],
   "source": [
    "data.groupby('Customer type', as_index=False).Quantity.count()"
   ]
  },
  {
   "cell_type": "code",
   "execution_count": 21,
   "metadata": {},
   "outputs": [
    {
     "data": {
      "text/html": [
       "<div>\n",
       "<style scoped>\n",
       "    .dataframe tbody tr th:only-of-type {\n",
       "        vertical-align: middle;\n",
       "    }\n",
       "\n",
       "    .dataframe tbody tr th {\n",
       "        vertical-align: top;\n",
       "    }\n",
       "\n",
       "    .dataframe thead th {\n",
       "        text-align: right;\n",
       "    }\n",
       "</style>\n",
       "<table border=\"1\" class=\"dataframe\">\n",
       "  <thead>\n",
       "    <tr style=\"text-align: right;\">\n",
       "      <th></th>\n",
       "      <th>Gender</th>\n",
       "      <th>Total</th>\n",
       "    </tr>\n",
       "  </thead>\n",
       "  <tbody>\n",
       "    <tr>\n",
       "      <th>0</th>\n",
       "      <td>Female</td>\n",
       "      <td>501</td>\n",
       "    </tr>\n",
       "    <tr>\n",
       "      <th>1</th>\n",
       "      <td>Male</td>\n",
       "      <td>499</td>\n",
       "    </tr>\n",
       "  </tbody>\n",
       "</table>\n",
       "</div>"
      ],
      "text/plain": [
       "   Gender  Total\n",
       "0  Female    501\n",
       "1    Male    499"
      ]
     },
     "execution_count": 21,
     "metadata": {},
     "output_type": "execute_result"
    }
   ],
   "source": [
    "data.groupby('Gender', as_index=False).Total.count()"
   ]
  },
  {
   "cell_type": "code",
   "execution_count": 22,
   "metadata": {},
   "outputs": [
    {
     "data": {
      "text/html": [
       "<div>\n",
       "<style scoped>\n",
       "    .dataframe tbody tr th:only-of-type {\n",
       "        vertical-align: middle;\n",
       "    }\n",
       "\n",
       "    .dataframe tbody tr th {\n",
       "        vertical-align: top;\n",
       "    }\n",
       "\n",
       "    .dataframe thead th {\n",
       "        text-align: right;\n",
       "    }\n",
       "</style>\n",
       "<table border=\"1\" class=\"dataframe\">\n",
       "  <thead>\n",
       "    <tr style=\"text-align: right;\">\n",
       "      <th></th>\n",
       "      <th>Gender</th>\n",
       "      <th>Total</th>\n",
       "    </tr>\n",
       "  </thead>\n",
       "  <tbody>\n",
       "    <tr>\n",
       "      <th>0</th>\n",
       "      <td>Female</td>\n",
       "      <td>167882.925</td>\n",
       "    </tr>\n",
       "    <tr>\n",
       "      <th>1</th>\n",
       "      <td>Male</td>\n",
       "      <td>155083.824</td>\n",
       "    </tr>\n",
       "  </tbody>\n",
       "</table>\n",
       "</div>"
      ],
      "text/plain": [
       "   Gender       Total\n",
       "0  Female  167882.925\n",
       "1    Male  155083.824"
      ]
     },
     "execution_count": 22,
     "metadata": {},
     "output_type": "execute_result"
    }
   ],
   "source": [
    "data_total_sum = data.groupby('Gender', as_index=False).Total.sum()\n",
    "data_total_sum"
   ]
  },
  {
   "cell_type": "code",
   "execution_count": 23,
   "metadata": {},
   "outputs": [
    {
     "data": {
      "text/plain": [
       "<matplotlib.axes._subplots.AxesSubplot at 0x7f28a370e8d0>"
      ]
     },
     "execution_count": 23,
     "metadata": {},
     "output_type": "execute_result"
    },
    {
     "data": {
      "image/png": "[encoded data removed]",
      "text/plain": [
       "<Figure size 432x288 with 1 Axes>"
      ]
     },
     "metadata": {
      "needs_background": "light"
     },
     "output_type": "display_data"
    }
   ],
   "source": [
    "bar(\"Data Total Sum gender\", data_total_sum, False)"
   ]
  },
  {
   "cell_type": "code",
   "execution_count": 24,
   "metadata": {},
   "outputs": [
    {
     "data": {
      "text/html": [
       "<div>\n",
       "<style scoped>\n",
       "    .dataframe tbody tr th:only-of-type {\n",
       "        vertical-align: middle;\n",
       "    }\n",
       "\n",
       "    .dataframe tbody tr th {\n",
       "        vertical-align: top;\n",
       "    }\n",
       "\n",
       "    .dataframe thead th {\n",
       "        text-align: right;\n",
       "    }\n",
       "</style>\n",
       "<table border=\"1\" class=\"dataframe\">\n",
       "  <thead>\n",
       "    <tr style=\"text-align: right;\">\n",
       "      <th></th>\n",
       "      <th>Customer type</th>\n",
       "      <th>Total</th>\n",
       "    </tr>\n",
       "  </thead>\n",
       "  <tbody>\n",
       "    <tr>\n",
       "      <th>0</th>\n",
       "      <td>Member</td>\n",
       "      <td>164223.444</td>\n",
       "    </tr>\n",
       "    <tr>\n",
       "      <th>1</th>\n",
       "      <td>Normal</td>\n",
       "      <td>158743.305</td>\n",
       "    </tr>\n",
       "  </tbody>\n",
       "</table>\n",
       "</div>"
      ],
      "text/plain": [
       "  Customer type       Total\n",
       "0        Member  164223.444\n",
       "1        Normal  158743.305"
      ]
     },
     "execution_count": 24,
     "metadata": {},
     "output_type": "execute_result"
    }
   ],
   "source": [
    "data_costumrtype_total_sum = data.groupby('Customer type', as_index=False).Total.sum()\n",
    "data_costumrtype_total_sum"
   ]
  },
  {
   "cell_type": "code",
   "execution_count": 25,
   "metadata": {},
   "outputs": [
    {
     "data": {
      "text/plain": [
       "<matplotlib.axes._subplots.AxesSubplot at 0x7f28a368a588>"
      ]
     },
     "execution_count": 25,
     "metadata": {},
     "output_type": "execute_result"
    },
    {
     "data": {
      "image/png": "[encoded data removed]",
      "text/plain": [
       "<Figure size 432x288 with 1 Axes>"
      ]
     },
     "metadata": {
      "needs_background": "light"
     },
     "output_type": "display_data"
    }
   ],
   "source": [
    "bar(\"data_costumrtype_total_sum\", data_costumrtype_total_sum, False)"
   ]
  },
  {
   "cell_type": "markdown",
   "metadata": {},
   "source": [
    "#### Datasets by city Naypyitaw, Mandalay, Yangon"
   ]
  },
  {
   "cell_type": "code",
   "execution_count": 26,
   "metadata": {},
   "outputs": [
    {
     "data": {
      "text/html": [
       "<div>\n",
       "<style scoped>\n",
       "    .dataframe tbody tr th:only-of-type {\n",
       "        vertical-align: middle;\n",
       "    }\n",
       "\n",
       "    .dataframe tbody tr th {\n",
       "        vertical-align: top;\n",
       "    }\n",
       "\n",
       "    .dataframe thead th {\n",
       "        text-align: right;\n",
       "    }\n",
       "</style>\n",
       "<table border=\"1\" class=\"dataframe\">\n",
       "  <thead>\n",
       "    <tr style=\"text-align: right;\">\n",
       "      <th></th>\n",
       "      <th>City</th>\n",
       "      <th>Customer type</th>\n",
       "      <th>Gender</th>\n",
       "      <th>Product line</th>\n",
       "      <th>Unit price</th>\n",
       "      <th>Quantity</th>\n",
       "      <th>Tax 5%</th>\n",
       "      <th>Total</th>\n",
       "      <th>Date</th>\n",
       "      <th>Payment</th>\n",
       "      <th>cogs</th>\n",
       "      <th>gross margin percentage</th>\n",
       "      <th>gross income</th>\n",
       "      <th>Rating</th>\n",
       "      <th>Date_time</th>\n",
       "    </tr>\n",
       "  </thead>\n",
       "  <tbody>\n",
       "    <tr>\n",
       "      <th>1</th>\n",
       "      <td>Naypyitaw</td>\n",
       "      <td>Normal</td>\n",
       "      <td>Female</td>\n",
       "      <td>Electronic accessories</td>\n",
       "      <td>15.28</td>\n",
       "      <td>5</td>\n",
       "      <td>3.8200</td>\n",
       "      <td>80.2200</td>\n",
       "      <td>2019-03-08</td>\n",
       "      <td>Cash</td>\n",
       "      <td>76.40</td>\n",
       "      <td>4.761905</td>\n",
       "      <td>3.8200</td>\n",
       "      <td>9.6</td>\n",
       "      <td>2019-03-08 10:29:00</td>\n",
       "    </tr>\n",
       "    <tr>\n",
       "      <th>5</th>\n",
       "      <td>Naypyitaw</td>\n",
       "      <td>Normal</td>\n",
       "      <td>Male</td>\n",
       "      <td>Electronic accessories</td>\n",
       "      <td>85.39</td>\n",
       "      <td>7</td>\n",
       "      <td>29.8865</td>\n",
       "      <td>627.6165</td>\n",
       "      <td>2019-03-25</td>\n",
       "      <td>Ewallet</td>\n",
       "      <td>597.73</td>\n",
       "      <td>4.761905</td>\n",
       "      <td>29.8865</td>\n",
       "      <td>4.1</td>\n",
       "      <td>2019-03-25 18:30:00</td>\n",
       "    </tr>\n",
       "    <tr>\n",
       "      <th>7</th>\n",
       "      <td>Naypyitaw</td>\n",
       "      <td>Normal</td>\n",
       "      <td>Female</td>\n",
       "      <td>Home and lifestyle</td>\n",
       "      <td>73.56</td>\n",
       "      <td>10</td>\n",
       "      <td>36.7800</td>\n",
       "      <td>772.3800</td>\n",
       "      <td>2019-02-24</td>\n",
       "      <td>Ewallet</td>\n",
       "      <td>735.60</td>\n",
       "      <td>4.761905</td>\n",
       "      <td>36.7800</td>\n",
       "      <td>8.0</td>\n",
       "      <td>2019-02-24 11:38:00</td>\n",
       "    </tr>\n",
       "    <tr>\n",
       "      <th>20</th>\n",
       "      <td>Naypyitaw</td>\n",
       "      <td>Member</td>\n",
       "      <td>Male</td>\n",
       "      <td>Electronic accessories</td>\n",
       "      <td>86.04</td>\n",
       "      <td>5</td>\n",
       "      <td>21.5100</td>\n",
       "      <td>451.7100</td>\n",
       "      <td>2019-02-25</td>\n",
       "      <td>Ewallet</td>\n",
       "      <td>430.20</td>\n",
       "      <td>4.761905</td>\n",
       "      <td>21.5100</td>\n",
       "      <td>4.8</td>\n",
       "      <td>2019-02-25 11:24:00</td>\n",
       "    </tr>\n",
       "    <tr>\n",
       "      <th>34</th>\n",
       "      <td>Naypyitaw</td>\n",
       "      <td>Member</td>\n",
       "      <td>Female</td>\n",
       "      <td>Food and beverages</td>\n",
       "      <td>99.42</td>\n",
       "      <td>4</td>\n",
       "      <td>19.8840</td>\n",
       "      <td>417.5640</td>\n",
       "      <td>2019-02-06</td>\n",
       "      <td>Ewallet</td>\n",
       "      <td>397.68</td>\n",
       "      <td>4.761905</td>\n",
       "      <td>19.8840</td>\n",
       "      <td>7.5</td>\n",
       "      <td>2019-02-06 10:42:00</td>\n",
       "    </tr>\n",
       "  </tbody>\n",
       "</table>\n",
       "</div>"
      ],
      "text/plain": [
       "         City Customer type  Gender            Product line  Unit price  \\\n",
       "1   Naypyitaw        Normal  Female  Electronic accessories       15.28   \n",
       "5   Naypyitaw        Normal    Male  Electronic accessories       85.39   \n",
       "7   Naypyitaw        Normal  Female      Home and lifestyle       73.56   \n",
       "20  Naypyitaw        Member    Male  Electronic accessories       86.04   \n",
       "34  Naypyitaw        Member  Female      Food and beverages       99.42   \n",
       "\n",
       "    Quantity   Tax 5%     Total       Date  Payment    cogs  \\\n",
       "1          5   3.8200   80.2200 2019-03-08     Cash   76.40   \n",
       "5          7  29.8865  627.6165 2019-03-25  Ewallet  597.73   \n",
       "7         10  36.7800  772.3800 2019-02-24  Ewallet  735.60   \n",
       "20         5  21.5100  451.7100 2019-02-25  Ewallet  430.20   \n",
       "34         4  19.8840  417.5640 2019-02-06  Ewallet  397.68   \n",
       "\n",
       "    gross margin percentage  gross income  Rating           Date_time  \n",
       "1                  4.761905        3.8200     9.6 2019-03-08 10:29:00  \n",
       "5                  4.761905       29.8865     4.1 2019-03-25 18:30:00  \n",
       "7                  4.761905       36.7800     8.0 2019-02-24 11:38:00  \n",
       "20                 4.761905       21.5100     4.8 2019-02-25 11:24:00  \n",
       "34                 4.761905       19.8840     7.5 2019-02-06 10:42:00  "
      ]
     },
     "execution_count": 26,
     "metadata": {},
     "output_type": "execute_result"
    }
   ],
   "source": [
    "data_naypyitaw = data[ data['City'] == 'Naypyitaw']\n",
    "data_naypyitaw.head()"
   ]
  },
  {
   "cell_type": "code",
   "execution_count": 27,
   "metadata": {},
   "outputs": [
    {
     "data": {
      "text/html": [
       "<div>\n",
       "<style scoped>\n",
       "    .dataframe tbody tr th:only-of-type {\n",
       "        vertical-align: middle;\n",
       "    }\n",
       "\n",
       "    .dataframe tbody tr th {\n",
       "        vertical-align: top;\n",
       "    }\n",
       "\n",
       "    .dataframe thead th {\n",
       "        text-align: right;\n",
       "    }\n",
       "</style>\n",
       "<table border=\"1\" class=\"dataframe\">\n",
       "  <thead>\n",
       "    <tr style=\"text-align: right;\">\n",
       "      <th></th>\n",
       "      <th>City</th>\n",
       "      <th>Customer type</th>\n",
       "      <th>Gender</th>\n",
       "      <th>Product line</th>\n",
       "      <th>Unit price</th>\n",
       "      <th>Quantity</th>\n",
       "      <th>Tax 5%</th>\n",
       "      <th>Total</th>\n",
       "      <th>Date</th>\n",
       "      <th>Payment</th>\n",
       "      <th>cogs</th>\n",
       "      <th>gross margin percentage</th>\n",
       "      <th>gross income</th>\n",
       "      <th>Rating</th>\n",
       "      <th>Date_time</th>\n",
       "    </tr>\n",
       "  </thead>\n",
       "  <tbody>\n",
       "    <tr>\n",
       "      <th>9</th>\n",
       "      <td>Mandalay</td>\n",
       "      <td>Member</td>\n",
       "      <td>Female</td>\n",
       "      <td>Food and beverages</td>\n",
       "      <td>54.84</td>\n",
       "      <td>3</td>\n",
       "      <td>8.226</td>\n",
       "      <td>172.746</td>\n",
       "      <td>2019-02-20</td>\n",
       "      <td>Credit card</td>\n",
       "      <td>164.52</td>\n",
       "      <td>4.761905</td>\n",
       "      <td>8.226</td>\n",
       "      <td>5.9</td>\n",
       "      <td>2019-02-20 13:27:00</td>\n",
       "    </tr>\n",
       "    <tr>\n",
       "      <th>10</th>\n",
       "      <td>Mandalay</td>\n",
       "      <td>Member</td>\n",
       "      <td>Female</td>\n",
       "      <td>Fashion accessories</td>\n",
       "      <td>14.48</td>\n",
       "      <td>4</td>\n",
       "      <td>2.896</td>\n",
       "      <td>60.816</td>\n",
       "      <td>2019-02-06</td>\n",
       "      <td>Ewallet</td>\n",
       "      <td>57.92</td>\n",
       "      <td>4.761905</td>\n",
       "      <td>2.896</td>\n",
       "      <td>4.5</td>\n",
       "      <td>2019-02-06 18:07:00</td>\n",
       "    </tr>\n",
       "    <tr>\n",
       "      <th>11</th>\n",
       "      <td>Mandalay</td>\n",
       "      <td>Member</td>\n",
       "      <td>Male</td>\n",
       "      <td>Electronic accessories</td>\n",
       "      <td>25.51</td>\n",
       "      <td>4</td>\n",
       "      <td>5.102</td>\n",
       "      <td>107.142</td>\n",
       "      <td>2019-03-09</td>\n",
       "      <td>Cash</td>\n",
       "      <td>102.04</td>\n",
       "      <td>4.761905</td>\n",
       "      <td>5.102</td>\n",
       "      <td>6.8</td>\n",
       "      <td>2019-03-09 17:03:00</td>\n",
       "    </tr>\n",
       "    <tr>\n",
       "      <th>15</th>\n",
       "      <td>Mandalay</td>\n",
       "      <td>Member</td>\n",
       "      <td>Female</td>\n",
       "      <td>Sports and travel</td>\n",
       "      <td>93.72</td>\n",
       "      <td>6</td>\n",
       "      <td>28.116</td>\n",
       "      <td>590.436</td>\n",
       "      <td>2019-01-15</td>\n",
       "      <td>Cash</td>\n",
       "      <td>562.32</td>\n",
       "      <td>4.761905</td>\n",
       "      <td>28.116</td>\n",
       "      <td>4.5</td>\n",
       "      <td>2019-01-15 16:19:00</td>\n",
       "    </tr>\n",
       "    <tr>\n",
       "      <th>19</th>\n",
       "      <td>Mandalay</td>\n",
       "      <td>Normal</td>\n",
       "      <td>Female</td>\n",
       "      <td>Home and lifestyle</td>\n",
       "      <td>40.30</td>\n",
       "      <td>2</td>\n",
       "      <td>4.030</td>\n",
       "      <td>84.630</td>\n",
       "      <td>2019-03-11</td>\n",
       "      <td>Ewallet</td>\n",
       "      <td>80.60</td>\n",
       "      <td>4.761905</td>\n",
       "      <td>4.030</td>\n",
       "      <td>4.4</td>\n",
       "      <td>2019-03-11 15:30:00</td>\n",
       "    </tr>\n",
       "  </tbody>\n",
       "</table>\n",
       "</div>"
      ],
      "text/plain": [
       "        City Customer type  Gender            Product line  Unit price  \\\n",
       "9   Mandalay        Member  Female      Food and beverages       54.84   \n",
       "10  Mandalay        Member  Female     Fashion accessories       14.48   \n",
       "11  Mandalay        Member    Male  Electronic accessories       25.51   \n",
       "15  Mandalay        Member  Female       Sports and travel       93.72   \n",
       "19  Mandalay        Normal  Female      Home and lifestyle       40.30   \n",
       "\n",
       "    Quantity  Tax 5%    Total       Date      Payment    cogs  \\\n",
       "9          3   8.226  172.746 2019-02-20  Credit card  164.52   \n",
       "10         4   2.896   60.816 2019-02-06      Ewallet   57.92   \n",
       "11         4   5.102  107.142 2019-03-09         Cash  102.04   \n",
       "15         6  28.116  590.436 2019-01-15         Cash  562.32   \n",
       "19         2   4.030   84.630 2019-03-11      Ewallet   80.60   \n",
       "\n",
       "    gross margin percentage  gross income  Rating           Date_time  \n",
       "9                  4.761905         8.226     5.9 2019-02-20 13:27:00  \n",
       "10                 4.761905         2.896     4.5 2019-02-06 18:07:00  \n",
       "11                 4.761905         5.102     6.8 2019-03-09 17:03:00  \n",
       "15                 4.761905        28.116     4.5 2019-01-15 16:19:00  \n",
       "19                 4.761905         4.030     4.4 2019-03-11 15:30:00  "
      ]
     },
     "execution_count": 27,
     "metadata": {},
     "output_type": "execute_result"
    }
   ],
   "source": [
    "data_mandalay = data[ data['City'] == 'Mandalay']\n",
    "data_mandalay.head()"
   ]
  },
  {
   "cell_type": "code",
   "execution_count": 28,
   "metadata": {},
   "outputs": [
    {
     "data": {
      "text/html": [
       "<div>\n",
       "<style scoped>\n",
       "    .dataframe tbody tr th:only-of-type {\n",
       "        vertical-align: middle;\n",
       "    }\n",
       "\n",
       "    .dataframe tbody tr th {\n",
       "        vertical-align: top;\n",
       "    }\n",
       "\n",
       "    .dataframe thead th {\n",
       "        text-align: right;\n",
       "    }\n",
       "</style>\n",
       "<table border=\"1\" class=\"dataframe\">\n",
       "  <thead>\n",
       "    <tr style=\"text-align: right;\">\n",
       "      <th></th>\n",
       "      <th>City</th>\n",
       "      <th>Customer type</th>\n",
       "      <th>Gender</th>\n",
       "      <th>Product line</th>\n",
       "      <th>Unit price</th>\n",
       "      <th>Quantity</th>\n",
       "      <th>Tax 5%</th>\n",
       "      <th>Total</th>\n",
       "      <th>Date</th>\n",
       "      <th>Payment</th>\n",
       "      <th>cogs</th>\n",
       "      <th>gross margin percentage</th>\n",
       "      <th>gross income</th>\n",
       "      <th>Rating</th>\n",
       "      <th>Date_time</th>\n",
       "    </tr>\n",
       "  </thead>\n",
       "  <tbody>\n",
       "    <tr>\n",
       "      <th>0</th>\n",
       "      <td>Yangon</td>\n",
       "      <td>Member</td>\n",
       "      <td>Female</td>\n",
       "      <td>Health and beauty</td>\n",
       "      <td>74.69</td>\n",
       "      <td>7</td>\n",
       "      <td>26.1415</td>\n",
       "      <td>548.9715</td>\n",
       "      <td>2019-01-05</td>\n",
       "      <td>Ewallet</td>\n",
       "      <td>522.83</td>\n",
       "      <td>4.761905</td>\n",
       "      <td>26.1415</td>\n",
       "      <td>9.1</td>\n",
       "      <td>2019-01-05 13:08:00</td>\n",
       "    </tr>\n",
       "    <tr>\n",
       "      <th>2</th>\n",
       "      <td>Yangon</td>\n",
       "      <td>Normal</td>\n",
       "      <td>Male</td>\n",
       "      <td>Home and lifestyle</td>\n",
       "      <td>46.33</td>\n",
       "      <td>7</td>\n",
       "      <td>16.2155</td>\n",
       "      <td>340.5255</td>\n",
       "      <td>2019-03-03</td>\n",
       "      <td>Credit card</td>\n",
       "      <td>324.31</td>\n",
       "      <td>4.761905</td>\n",
       "      <td>16.2155</td>\n",
       "      <td>7.4</td>\n",
       "      <td>2019-03-03 13:23:00</td>\n",
       "    </tr>\n",
       "    <tr>\n",
       "      <th>3</th>\n",
       "      <td>Yangon</td>\n",
       "      <td>Member</td>\n",
       "      <td>Male</td>\n",
       "      <td>Health and beauty</td>\n",
       "      <td>58.22</td>\n",
       "      <td>8</td>\n",
       "      <td>23.2880</td>\n",
       "      <td>489.0480</td>\n",
       "      <td>2019-01-27</td>\n",
       "      <td>Ewallet</td>\n",
       "      <td>465.76</td>\n",
       "      <td>4.761905</td>\n",
       "      <td>23.2880</td>\n",
       "      <td>8.4</td>\n",
       "      <td>2019-01-27 20:33:00</td>\n",
       "    </tr>\n",
       "    <tr>\n",
       "      <th>4</th>\n",
       "      <td>Yangon</td>\n",
       "      <td>Normal</td>\n",
       "      <td>Male</td>\n",
       "      <td>Sports and travel</td>\n",
       "      <td>86.31</td>\n",
       "      <td>7</td>\n",
       "      <td>30.2085</td>\n",
       "      <td>634.3785</td>\n",
       "      <td>2019-02-08</td>\n",
       "      <td>Ewallet</td>\n",
       "      <td>604.17</td>\n",
       "      <td>4.761905</td>\n",
       "      <td>30.2085</td>\n",
       "      <td>5.3</td>\n",
       "      <td>2019-02-08 10:37:00</td>\n",
       "    </tr>\n",
       "    <tr>\n",
       "      <th>6</th>\n",
       "      <td>Yangon</td>\n",
       "      <td>Member</td>\n",
       "      <td>Female</td>\n",
       "      <td>Electronic accessories</td>\n",
       "      <td>68.84</td>\n",
       "      <td>6</td>\n",
       "      <td>20.6520</td>\n",
       "      <td>433.6920</td>\n",
       "      <td>2019-02-25</td>\n",
       "      <td>Ewallet</td>\n",
       "      <td>413.04</td>\n",
       "      <td>4.761905</td>\n",
       "      <td>20.6520</td>\n",
       "      <td>5.8</td>\n",
       "      <td>2019-02-25 14:36:00</td>\n",
       "    </tr>\n",
       "  </tbody>\n",
       "</table>\n",
       "</div>"
      ],
      "text/plain": [
       "     City Customer type  Gender            Product line  Unit price  Quantity  \\\n",
       "0  Yangon        Member  Female       Health and beauty       74.69         7   \n",
       "2  Yangon        Normal    Male      Home and lifestyle       46.33         7   \n",
       "3  Yangon        Member    Male       Health and beauty       58.22         8   \n",
       "4  Yangon        Normal    Male       Sports and travel       86.31         7   \n",
       "6  Yangon        Member  Female  Electronic accessories       68.84         6   \n",
       "\n",
       "    Tax 5%     Total       Date      Payment    cogs  gross margin percentage  \\\n",
       "0  26.1415  548.9715 2019-01-05      Ewallet  522.83                 4.761905   \n",
       "2  16.2155  340.5255 2019-03-03  Credit card  324.31                 4.761905   \n",
       "3  23.2880  489.0480 2019-01-27      Ewallet  465.76                 4.761905   \n",
       "4  30.2085  634.3785 2019-02-08      Ewallet  604.17                 4.761905   \n",
       "6  20.6520  433.6920 2019-02-25      Ewallet  413.04                 4.761905   \n",
       "\n",
       "   gross income  Rating           Date_time  \n",
       "0       26.1415     9.1 2019-01-05 13:08:00  \n",
       "2       16.2155     7.4 2019-03-03 13:23:00  \n",
       "3       23.2880     8.4 2019-01-27 20:33:00  \n",
       "4       30.2085     5.3 2019-02-08 10:37:00  \n",
       "6       20.6520     5.8 2019-02-25 14:36:00  "
      ]
     },
     "execution_count": 28,
     "metadata": {},
     "output_type": "execute_result"
    }
   ],
   "source": [
    "data_yangon = data[ data['City'] == 'Yangon']\n",
    "data_yangon.head()"
   ]
  },
  {
   "cell_type": "code",
   "execution_count": 29,
   "metadata": {},
   "outputs": [
    {
     "data": {
      "text/html": [
       "<div>\n",
       "<style scoped>\n",
       "    .dataframe tbody tr th:only-of-type {\n",
       "        vertical-align: middle;\n",
       "    }\n",
       "\n",
       "    .dataframe tbody tr th {\n",
       "        vertical-align: top;\n",
       "    }\n",
       "\n",
       "    .dataframe thead th {\n",
       "        text-align: right;\n",
       "    }\n",
       "</style>\n",
       "<table border=\"1\" class=\"dataframe\">\n",
       "  <thead>\n",
       "    <tr style=\"text-align: right;\">\n",
       "      <th></th>\n",
       "      <th>City</th>\n",
       "      <th>Customer type</th>\n",
       "      <th>Gender</th>\n",
       "      <th>Product line</th>\n",
       "      <th>Unit price</th>\n",
       "      <th>Quantity</th>\n",
       "      <th>Tax 5%</th>\n",
       "      <th>Total</th>\n",
       "      <th>Date</th>\n",
       "      <th>Payment</th>\n",
       "      <th>cogs</th>\n",
       "      <th>gross margin percentage</th>\n",
       "      <th>gross income</th>\n",
       "      <th>Rating</th>\n",
       "      <th>Date_time</th>\n",
       "    </tr>\n",
       "  </thead>\n",
       "  <tbody>\n",
       "    <tr>\n",
       "      <th>17</th>\n",
       "      <td>Yangon</td>\n",
       "      <td>Normal</td>\n",
       "      <td>Male</td>\n",
       "      <td>Sports and travel</td>\n",
       "      <td>72.61</td>\n",
       "      <td>6</td>\n",
       "      <td>21.783</td>\n",
       "      <td>457.443</td>\n",
       "      <td>2019-01-01</td>\n",
       "      <td>Credit card</td>\n",
       "      <td>435.66</td>\n",
       "      <td>4.761905</td>\n",
       "      <td>21.783</td>\n",
       "      <td>6.9</td>\n",
       "      <td>2019-01-01 10:39:00</td>\n",
       "    </tr>\n",
       "    <tr>\n",
       "      <th>970</th>\n",
       "      <td>Mandalay</td>\n",
       "      <td>Member</td>\n",
       "      <td>Female</td>\n",
       "      <td>Food and beverages</td>\n",
       "      <td>84.63</td>\n",
       "      <td>10</td>\n",
       "      <td>42.315</td>\n",
       "      <td>888.615</td>\n",
       "      <td>2019-01-01</td>\n",
       "      <td>Credit card</td>\n",
       "      <td>846.30</td>\n",
       "      <td>4.761905</td>\n",
       "      <td>42.315</td>\n",
       "      <td>9.0</td>\n",
       "      <td>2019-01-01 11:36:00</td>\n",
       "    </tr>\n",
       "    <tr>\n",
       "      <th>839</th>\n",
       "      <td>Naypyitaw</td>\n",
       "      <td>Member</td>\n",
       "      <td>Female</td>\n",
       "      <td>Sports and travel</td>\n",
       "      <td>29.22</td>\n",
       "      <td>6</td>\n",
       "      <td>8.766</td>\n",
       "      <td>184.086</td>\n",
       "      <td>2019-01-01</td>\n",
       "      <td>Ewallet</td>\n",
       "      <td>175.32</td>\n",
       "      <td>4.761905</td>\n",
       "      <td>8.766</td>\n",
       "      <td>5.0</td>\n",
       "      <td>2019-01-01 11:40:00</td>\n",
       "    </tr>\n",
       "    <tr>\n",
       "      <th>523</th>\n",
       "      <td>Naypyitaw</td>\n",
       "      <td>Normal</td>\n",
       "      <td>Male</td>\n",
       "      <td>Health and beauty</td>\n",
       "      <td>62.87</td>\n",
       "      <td>2</td>\n",
       "      <td>6.287</td>\n",
       "      <td>132.027</td>\n",
       "      <td>2019-01-01</td>\n",
       "      <td>Cash</td>\n",
       "      <td>125.74</td>\n",
       "      <td>4.761905</td>\n",
       "      <td>6.287</td>\n",
       "      <td>5.0</td>\n",
       "      <td>2019-01-01 11:43:00</td>\n",
       "    </tr>\n",
       "    <tr>\n",
       "      <th>567</th>\n",
       "      <td>Yangon</td>\n",
       "      <td>Normal</td>\n",
       "      <td>Female</td>\n",
       "      <td>Fashion accessories</td>\n",
       "      <td>65.74</td>\n",
       "      <td>9</td>\n",
       "      <td>29.583</td>\n",
       "      <td>621.243</td>\n",
       "      <td>2019-01-01</td>\n",
       "      <td>Cash</td>\n",
       "      <td>591.66</td>\n",
       "      <td>4.761905</td>\n",
       "      <td>29.583</td>\n",
       "      <td>7.7</td>\n",
       "      <td>2019-01-01 13:55:00</td>\n",
       "    </tr>\n",
       "    <tr>\n",
       "      <th>...</th>\n",
       "      <td>...</td>\n",
       "      <td>...</td>\n",
       "      <td>...</td>\n",
       "      <td>...</td>\n",
       "      <td>...</td>\n",
       "      <td>...</td>\n",
       "      <td>...</td>\n",
       "      <td>...</td>\n",
       "      <td>...</td>\n",
       "      <td>...</td>\n",
       "      <td>...</td>\n",
       "      <td>...</td>\n",
       "      <td>...</td>\n",
       "      <td>...</td>\n",
       "      <td>...</td>\n",
       "    </tr>\n",
       "    <tr>\n",
       "      <th>671</th>\n",
       "      <td>Mandalay</td>\n",
       "      <td>Member</td>\n",
       "      <td>Male</td>\n",
       "      <td>Food and beverages</td>\n",
       "      <td>93.40</td>\n",
       "      <td>2</td>\n",
       "      <td>9.340</td>\n",
       "      <td>196.140</td>\n",
       "      <td>2019-03-30</td>\n",
       "      <td>Cash</td>\n",
       "      <td>186.80</td>\n",
       "      <td>4.761905</td>\n",
       "      <td>9.340</td>\n",
       "      <td>5.5</td>\n",
       "      <td>2019-03-30 16:34:00</td>\n",
       "    </tr>\n",
       "    <tr>\n",
       "      <th>474</th>\n",
       "      <td>Yangon</td>\n",
       "      <td>Member</td>\n",
       "      <td>Female</td>\n",
       "      <td>Electronic accessories</td>\n",
       "      <td>64.44</td>\n",
       "      <td>5</td>\n",
       "      <td>16.110</td>\n",
       "      <td>338.310</td>\n",
       "      <td>2019-03-30</td>\n",
       "      <td>Cash</td>\n",
       "      <td>322.20</td>\n",
       "      <td>4.761905</td>\n",
       "      <td>16.110</td>\n",
       "      <td>6.6</td>\n",
       "      <td>2019-03-30 17:04:00</td>\n",
       "    </tr>\n",
       "    <tr>\n",
       "      <th>473</th>\n",
       "      <td>Mandalay</td>\n",
       "      <td>Member</td>\n",
       "      <td>Male</td>\n",
       "      <td>Health and beauty</td>\n",
       "      <td>72.57</td>\n",
       "      <td>8</td>\n",
       "      <td>29.028</td>\n",
       "      <td>609.588</td>\n",
       "      <td>2019-03-30</td>\n",
       "      <td>Cash</td>\n",
       "      <td>580.56</td>\n",
       "      <td>4.761905</td>\n",
       "      <td>29.028</td>\n",
       "      <td>4.6</td>\n",
       "      <td>2019-03-30 17:58:00</td>\n",
       "    </tr>\n",
       "    <tr>\n",
       "      <th>643</th>\n",
       "      <td>Naypyitaw</td>\n",
       "      <td>Member</td>\n",
       "      <td>Female</td>\n",
       "      <td>Food and beverages</td>\n",
       "      <td>72.52</td>\n",
       "      <td>8</td>\n",
       "      <td>29.008</td>\n",
       "      <td>609.168</td>\n",
       "      <td>2019-03-30</td>\n",
       "      <td>Credit card</td>\n",
       "      <td>580.16</td>\n",
       "      <td>4.761905</td>\n",
       "      <td>29.008</td>\n",
       "      <td>4.0</td>\n",
       "      <td>2019-03-30 19:26:00</td>\n",
       "    </tr>\n",
       "    <tr>\n",
       "      <th>963</th>\n",
       "      <td>Naypyitaw</td>\n",
       "      <td>Member</td>\n",
       "      <td>Male</td>\n",
       "      <td>Electronic accessories</td>\n",
       "      <td>96.82</td>\n",
       "      <td>3</td>\n",
       "      <td>14.523</td>\n",
       "      <td>304.983</td>\n",
       "      <td>2019-03-30</td>\n",
       "      <td>Cash</td>\n",
       "      <td>290.46</td>\n",
       "      <td>4.761905</td>\n",
       "      <td>14.523</td>\n",
       "      <td>6.7</td>\n",
       "      <td>2019-03-30 20:37:00</td>\n",
       "    </tr>\n",
       "  </tbody>\n",
       "</table>\n",
       "<p>1000 rows × 15 columns</p>\n",
       "</div>"
      ],
      "text/plain": [
       "          City Customer type  Gender            Product line  Unit price  \\\n",
       "17      Yangon        Normal    Male       Sports and travel       72.61   \n",
       "970   Mandalay        Member  Female      Food and beverages       84.63   \n",
       "839  Naypyitaw        Member  Female       Sports and travel       29.22   \n",
       "523  Naypyitaw        Normal    Male       Health and beauty       62.87   \n",
       "567     Yangon        Normal  Female     Fashion accessories       65.74   \n",
       "..         ...           ...     ...                     ...         ...   \n",
       "671   Mandalay        Member    Male      Food and beverages       93.40   \n",
       "474     Yangon        Member  Female  Electronic accessories       64.44   \n",
       "473   Mandalay        Member    Male       Health and beauty       72.57   \n",
       "643  Naypyitaw        Member  Female      Food and beverages       72.52   \n",
       "963  Naypyitaw        Member    Male  Electronic accessories       96.82   \n",
       "\n",
       "     Quantity  Tax 5%    Total       Date      Payment    cogs  \\\n",
       "17          6  21.783  457.443 2019-01-01  Credit card  435.66   \n",
       "970        10  42.315  888.615 2019-01-01  Credit card  846.30   \n",
       "839         6   8.766  184.086 2019-01-01      Ewallet  175.32   \n",
       "523         2   6.287  132.027 2019-01-01         Cash  125.74   \n",
       "567         9  29.583  621.243 2019-01-01         Cash  591.66   \n",
       "..        ...     ...      ...        ...          ...     ...   \n",
       "671         2   9.340  196.140 2019-03-30         Cash  186.80   \n",
       "474         5  16.110  338.310 2019-03-30         Cash  322.20   \n",
       "473         8  29.028  609.588 2019-03-30         Cash  580.56   \n",
       "643         8  29.008  609.168 2019-03-30  Credit card  580.16   \n",
       "963         3  14.523  304.983 2019-03-30         Cash  290.46   \n",
       "\n",
       "     gross margin percentage  gross income  Rating           Date_time  \n",
       "17                  4.761905        21.783     6.9 2019-01-01 10:39:00  \n",
       "970                 4.761905        42.315     9.0 2019-01-01 11:36:00  \n",
       "839                 4.761905         8.766     5.0 2019-01-01 11:40:00  \n",
       "523                 4.761905         6.287     5.0 2019-01-01 11:43:00  \n",
       "567                 4.761905        29.583     7.7 2019-01-01 13:55:00  \n",
       "..                       ...           ...     ...                 ...  \n",
       "671                 4.761905         9.340     5.5 2019-03-30 16:34:00  \n",
       "474                 4.761905        16.110     6.6 2019-03-30 17:04:00  \n",
       "473                 4.761905        29.028     4.6 2019-03-30 17:58:00  \n",
       "643                 4.761905        29.008     4.0 2019-03-30 19:26:00  \n",
       "963                 4.761905        14.523     6.7 2019-03-30 20:37:00  \n",
       "\n",
       "[1000 rows x 15 columns]"
      ]
     },
     "execution_count": 29,
     "metadata": {},
     "output_type": "execute_result"
    }
   ],
   "source": [
    "data = data.sort_values(by='Date_time')\n",
    "data"
   ]
  },
  {
   "cell_type": "code",
   "execution_count": 30,
   "metadata": {},
   "outputs": [
    {
     "data": {
      "text/plain": [
       "322966.749"
      ]
     },
     "execution_count": 30,
     "metadata": {},
     "output_type": "execute_result"
    },
    {
     "data": {
      "image/png": "[encoded data removed]",
      "text/plain": [
       "<Figure size 1080x360 with 1 Axes>"
      ]
     },
     "metadata": {
      "needs_background": "light"
     },
     "output_type": "display_data"
    }
   ],
   "source": [
    "dt = data.groupby(data['Date_time'])['Total'].sum()\n",
    "data.groupby(data['Date_time'].dt.to_period('W'))['Total'].sum().plot(kind='bar',figsize = (15,5))\n",
    "dt.sum()"
   ]
  },
  {
   "cell_type": "code",
   "execution_count": 31,
   "metadata": {},
   "outputs": [
    {
     "data": {
      "text/plain": [
       "106197.67199999999"
      ]
     },
     "execution_count": 31,
     "metadata": {},
     "output_type": "execute_result"
    },
    {
     "data": {
      "image/png": "[encoded data removed]",
      "text/plain": [
       "<Figure size 1080x360 with 1 Axes>"
      ]
     },
     "metadata": {
      "needs_background": "light"
     },
     "output_type": "display_data"
    }
   ],
   "source": [
    "total_mandalay = data_mandalay.groupby(data_mandalay['Date_time'])['Total'].sum().sum()\n",
    "citys = []\n",
    "citys.append(total_mandalay)\n",
    "data_mandalay.groupby(data_mandalay['Date_time'].dt.to_period('W'))['Total'].sum().plot(kind='bar', figsize = (15,5))\n",
    "total_mandalay"
   ]
  },
  {
   "cell_type": "code",
   "execution_count": 32,
   "metadata": {},
   "outputs": [
    {
     "data": {
      "text/plain": [
       "106200.3705"
      ]
     },
     "execution_count": 32,
     "metadata": {},
     "output_type": "execute_result"
    },
    {
     "data": {
      "image/png": "[encoded data removed]",
      "text/plain": [
       "<Figure size 1080x360 with 1 Axes>"
      ]
     },
     "metadata": {
      "needs_background": "light"
     },
     "output_type": "display_data"
    }
   ],
   "source": [
    "total_yangon = data_yangon.groupby(data_yangon['Date_time'])['Total'].sum().sum()\n",
    "citys.append(total_yangon)\n",
    "data_yangon.groupby(data_yangon['Date_time'].dt.to_period('W'))['Total'].sum().plot(kind='bar', figsize = (15,5))\n",
    "total_yangon"
   ]
  },
  {
   "cell_type": "code",
   "execution_count": 33,
   "metadata": {},
   "outputs": [
    {
     "data": {
      "text/plain": [
       "110568.70650000001"
      ]
     },
     "execution_count": 33,
     "metadata": {},
     "output_type": "execute_result"
    },
    {
     "data": {
      "image/png": "[encoded data removed]",
      "text/plain": [
       "<Figure size 1080x360 with 1 Axes>"
      ]
     },
     "metadata": {
      "needs_background": "light"
     },
     "output_type": "display_data"
    }
   ],
   "source": [
    "total_napyitaw = data_naypyitaw.groupby(data_naypyitaw['Date_time'])['Total'].sum().sum()\n",
    "citys.append(total_napyitaw)\n",
    "data_naypyitaw.groupby(data_naypyitaw['Date_time'].dt.to_period('W'))['Total'].sum().plot(kind='bar', figsize = (15,5))\n",
    "total_napyitaw"
   ]
  },
  {
   "cell_type": "code",
   "execution_count": 34,
   "metadata": {},
   "outputs": [
    {
     "data": {
      "text/plain": [
       "[106197.67199999999, 106200.3705, 110568.70650000001]"
      ]
     },
     "execution_count": 34,
     "metadata": {},
     "output_type": "execute_result"
    }
   ],
   "source": [
    "citys"
   ]
  },
  {
   "cell_type": "code",
   "execution_count": 35,
   "metadata": {},
   "outputs": [
    {
     "data": {
      "text/plain": [
       "{'Yangon': 106197.67199999999,\n",
       " 'Mandalay': 106200.3705,\n",
       " 'Naypyitaw': 110568.70650000001}"
      ]
     },
     "execution_count": 35,
     "metadata": {},
     "output_type": "execute_result"
    }
   ],
   "source": [
    "data['City'].unique()\n",
    "total_citys = dict(zip(data['City'].unique(), citys))\n",
    "total_citys"
   ]
  },
  {
   "cell_type": "code",
   "execution_count": 36,
   "metadata": {},
   "outputs": [
    {
     "data": {
      "text/html": [
       "<div>\n",
       "<style scoped>\n",
       "    .dataframe tbody tr th:only-of-type {\n",
       "        vertical-align: middle;\n",
       "    }\n",
       "\n",
       "    .dataframe tbody tr th {\n",
       "        vertical-align: top;\n",
       "    }\n",
       "\n",
       "    .dataframe thead th {\n",
       "        text-align: right;\n",
       "    }\n",
       "</style>\n",
       "<table border=\"1\" class=\"dataframe\">\n",
       "  <thead>\n",
       "    <tr style=\"text-align: right;\">\n",
       "      <th></th>\n",
       "      <th>Total_Value_Amont</th>\n",
       "    </tr>\n",
       "  </thead>\n",
       "  <tbody>\n",
       "    <tr>\n",
       "      <th>Yangon</th>\n",
       "      <td>106197.6720</td>\n",
       "    </tr>\n",
       "    <tr>\n",
       "      <th>Mandalay</th>\n",
       "      <td>106200.3705</td>\n",
       "    </tr>\n",
       "    <tr>\n",
       "      <th>Naypyitaw</th>\n",
       "      <td>110568.7065</td>\n",
       "    </tr>\n",
       "  </tbody>\n",
       "</table>\n",
       "</div>"
      ],
      "text/plain": [
       "           Total_Value_Amont\n",
       "Yangon           106197.6720\n",
       "Mandalay         106200.3705\n",
       "Naypyitaw        110568.7065"
      ]
     },
     "execution_count": 36,
     "metadata": {},
     "output_type": "execute_result"
    }
   ],
   "source": [
    "dt_total_citys = pd.DataFrame.from_dict(total_citys, orient='index',\n",
    "                       columns=['Total_Value_Amont'])\n",
    "dt_total_citys"
   ]
  },
  {
   "cell_type": "code",
   "execution_count": 37,
   "metadata": {},
   "outputs": [
    {
     "data": {
      "text/plain": [
       "<matplotlib.axes._subplots.AxesSubplot at 0x7f28a34ba9e8>"
      ]
     },
     "execution_count": 37,
     "metadata": {},
     "output_type": "execute_result"
    },
    {
     "data": {
      "image/png": "[encoded data removed]",
      "text/plain": [
       "<Figure size 432x288 with 1 Axes>"
      ]
     },
     "metadata": {
      "needs_background": "light"
     },
     "output_type": "display_data"
    }
   ],
   "source": [
    "dt_total_citys['Total_Value_Amont'].sort_values().plot(kind='barh', fontsize = 15, logy=False)"
   ]
  },
  {
   "cell_type": "code",
   "execution_count": 38,
   "metadata": {},
   "outputs": [
    {
     "data": {
      "text/html": [
       "<div>\n",
       "<style scoped>\n",
       "    .dataframe tbody tr th:only-of-type {\n",
       "        vertical-align: middle;\n",
       "    }\n",
       "\n",
       "    .dataframe tbody tr th {\n",
       "        vertical-align: top;\n",
       "    }\n",
       "\n",
       "    .dataframe thead th {\n",
       "        text-align: right;\n",
       "    }\n",
       "</style>\n",
       "<table border=\"1\" class=\"dataframe\">\n",
       "  <thead>\n",
       "    <tr style=\"text-align: right;\">\n",
       "      <th></th>\n",
       "      <th>Product line</th>\n",
       "    </tr>\n",
       "  </thead>\n",
       "  <tbody>\n",
       "    <tr>\n",
       "      <th>Fashion accessories</th>\n",
       "      <td>178</td>\n",
       "    </tr>\n",
       "    <tr>\n",
       "      <th>Food and beverages</th>\n",
       "      <td>174</td>\n",
       "    </tr>\n",
       "    <tr>\n",
       "      <th>Electronic accessories</th>\n",
       "      <td>170</td>\n",
       "    </tr>\n",
       "    <tr>\n",
       "      <th>Sports and travel</th>\n",
       "      <td>166</td>\n",
       "    </tr>\n",
       "    <tr>\n",
       "      <th>Home and lifestyle</th>\n",
       "      <td>160</td>\n",
       "    </tr>\n",
       "    <tr>\n",
       "      <th>Health and beauty</th>\n",
       "      <td>152</td>\n",
       "    </tr>\n",
       "  </tbody>\n",
       "</table>\n",
       "</div>"
      ],
      "text/plain": [
       "                        Product line\n",
       "Fashion accessories              178\n",
       "Food and beverages               174\n",
       "Electronic accessories           170\n",
       "Sports and travel                166\n",
       "Home and lifestyle               160\n",
       "Health and beauty                152"
      ]
     },
     "execution_count": 38,
     "metadata": {},
     "output_type": "execute_result"
    }
   ],
   "source": [
    "data_prodline = pd.DataFrame(data['Product line'].value_counts())\n",
    "data_prodline"
   ]
  },
  {
   "cell_type": "code",
   "execution_count": 39,
   "metadata": {},
   "outputs": [
    {
     "data": {
      "text/plain": [
       "Text(0, 0.5, 'Quantity')"
      ]
     },
     "execution_count": 39,
     "metadata": {},
     "output_type": "execute_result"
    },
    {
     "data": {
      "image/png": "[encoded data removed]",
      "text/plain": [
       "<Figure size 432x288 with 1 Axes>"
      ]
     },
     "metadata": {
      "needs_background": "light"
     },
     "output_type": "display_data"
    }
   ],
   "source": [
    "ax = data_prodline.plot(kind='bar', fontsize = 10)\n",
    "ax.set_xlabel(\"Types products line\")\n",
    "ax.set_ylabel(\"Quantity\")"
   ]
  },
  {
   "cell_type": "markdown",
   "metadata": {},
   "source": [
    "#### Learning lambda functions with pandas"
   ]
  },
  {
   "cell_type": "code",
   "execution_count": 40,
   "metadata": {},
   "outputs": [
    {
     "data": {
      "text/plain": [
       "1     [112, 91, 90, 109, 102, 98, 102, 85, 92, 119]\n",
       "2     [112, 91, 90, 109, 102, 98, 102, 85, 92, 119]\n",
       "3     [112, 91, 90, 109, 102, 98, 102, 85, 92, 119]\n",
       "4     [112, 91, 90, 109, 102, 98, 102, 85, 92, 119]\n",
       "5     [112, 91, 90, 109, 102, 98, 102, 85, 92, 119]\n",
       "6     [112, 91, 90, 109, 102, 98, 102, 85, 92, 119]\n",
       "7     [112, 91, 90, 109, 102, 98, 102, 85, 92, 119]\n",
       "8     [112, 91, 90, 109, 102, 98, 102, 85, 92, 119]\n",
       "9     [112, 91, 90, 109, 102, 98, 102, 85, 92, 119]\n",
       "10    [112, 91, 90, 109, 102, 98, 102, 85, 92, 119]\n",
       "dtype: object"
      ]
     },
     "execution_count": 40,
     "metadata": {},
     "output_type": "execute_result"
    }
   ],
   "source": [
    "list(data['Quantity'].value_counts(sort=False))[0]\n",
    "pd.Series(\n",
    "    map( lambda a: list(data['Quantity'].value_counts(sort=False)), range(1,11)),\n",
    "    index = range(1,11)\n",
    ")"
   ]
  },
  {
   "cell_type": "markdown",
   "metadata": {},
   "source": [
    "#### Transform city, customer type, gender, product lin, payment in number before sns correelation"
   ]
  },
  {
   "cell_type": "code",
   "execution_count": 41,
   "metadata": {},
   "outputs": [
    {
     "data": {
      "text/plain": [
       "Index(['City', 'Customer type', 'Gender', 'Product line', 'Payment'], dtype='object')"
      ]
     },
     "execution_count": 41,
     "metadata": {},
     "output_type": "execute_result"
    }
   ],
   "source": [
    "cat_columns = data.select_dtypes(['object']).columns\n",
    "cat_columns"
   ]
  },
  {
   "cell_type": "code",
   "execution_count": 42,
   "metadata": {},
   "outputs": [
    {
     "data": {
      "text/html": [
       "<div>\n",
       "<style scoped>\n",
       "    .dataframe tbody tr th:only-of-type {\n",
       "        vertical-align: middle;\n",
       "    }\n",
       "\n",
       "    .dataframe tbody tr th {\n",
       "        vertical-align: top;\n",
       "    }\n",
       "\n",
       "    .dataframe thead th {\n",
       "        text-align: right;\n",
       "    }\n",
       "</style>\n",
       "<table border=\"1\" class=\"dataframe\">\n",
       "  <thead>\n",
       "    <tr style=\"text-align: right;\">\n",
       "      <th></th>\n",
       "      <th>Unit price</th>\n",
       "      <th>Quantity</th>\n",
       "      <th>Tax 5%</th>\n",
       "      <th>Total</th>\n",
       "      <th>Date</th>\n",
       "      <th>cogs</th>\n",
       "      <th>gross margin percentage</th>\n",
       "      <th>gross income</th>\n",
       "      <th>Rating</th>\n",
       "      <th>Date_time</th>\n",
       "      <th>...</th>\n",
       "      <th>City_Yangon</th>\n",
       "      <th>Customer type_Normal</th>\n",
       "      <th>Gender_Male</th>\n",
       "      <th>Product line_Fashion accessories</th>\n",
       "      <th>Product line_Food and beverages</th>\n",
       "      <th>Product line_Health and beauty</th>\n",
       "      <th>Product line_Home and lifestyle</th>\n",
       "      <th>Product line_Sports and travel</th>\n",
       "      <th>Payment_Credit card</th>\n",
       "      <th>Payment_Ewallet</th>\n",
       "    </tr>\n",
       "  </thead>\n",
       "  <tbody>\n",
       "    <tr>\n",
       "      <th>17</th>\n",
       "      <td>72.61</td>\n",
       "      <td>6</td>\n",
       "      <td>21.783</td>\n",
       "      <td>457.443</td>\n",
       "      <td>2019-01-01</td>\n",
       "      <td>435.66</td>\n",
       "      <td>4.761905</td>\n",
       "      <td>21.783</td>\n",
       "      <td>6.9</td>\n",
       "      <td>2019-01-01 10:39:00</td>\n",
       "      <td>...</td>\n",
       "      <td>1</td>\n",
       "      <td>1</td>\n",
       "      <td>1</td>\n",
       "      <td>0</td>\n",
       "      <td>0</td>\n",
       "      <td>0</td>\n",
       "      <td>0</td>\n",
       "      <td>1</td>\n",
       "      <td>1</td>\n",
       "      <td>0</td>\n",
       "    </tr>\n",
       "    <tr>\n",
       "      <th>970</th>\n",
       "      <td>84.63</td>\n",
       "      <td>10</td>\n",
       "      <td>42.315</td>\n",
       "      <td>888.615</td>\n",
       "      <td>2019-01-01</td>\n",
       "      <td>846.30</td>\n",
       "      <td>4.761905</td>\n",
       "      <td>42.315</td>\n",
       "      <td>9.0</td>\n",
       "      <td>2019-01-01 11:36:00</td>\n",
       "      <td>...</td>\n",
       "      <td>0</td>\n",
       "      <td>0</td>\n",
       "      <td>0</td>\n",
       "      <td>0</td>\n",
       "      <td>1</td>\n",
       "      <td>0</td>\n",
       "      <td>0</td>\n",
       "      <td>0</td>\n",
       "      <td>1</td>\n",
       "      <td>0</td>\n",
       "    </tr>\n",
       "    <tr>\n",
       "      <th>839</th>\n",
       "      <td>29.22</td>\n",
       "      <td>6</td>\n",
       "      <td>8.766</td>\n",
       "      <td>184.086</td>\n",
       "      <td>2019-01-01</td>\n",
       "      <td>175.32</td>\n",
       "      <td>4.761905</td>\n",
       "      <td>8.766</td>\n",
       "      <td>5.0</td>\n",
       "      <td>2019-01-01 11:40:00</td>\n",
       "      <td>...</td>\n",
       "      <td>0</td>\n",
       "      <td>0</td>\n",
       "      <td>0</td>\n",
       "      <td>0</td>\n",
       "      <td>0</td>\n",
       "      <td>0</td>\n",
       "      <td>0</td>\n",
       "      <td>1</td>\n",
       "      <td>0</td>\n",
       "      <td>1</td>\n",
       "    </tr>\n",
       "    <tr>\n",
       "      <th>523</th>\n",
       "      <td>62.87</td>\n",
       "      <td>2</td>\n",
       "      <td>6.287</td>\n",
       "      <td>132.027</td>\n",
       "      <td>2019-01-01</td>\n",
       "      <td>125.74</td>\n",
       "      <td>4.761905</td>\n",
       "      <td>6.287</td>\n",
       "      <td>5.0</td>\n",
       "      <td>2019-01-01 11:43:00</td>\n",
       "      <td>...</td>\n",
       "      <td>0</td>\n",
       "      <td>1</td>\n",
       "      <td>1</td>\n",
       "      <td>0</td>\n",
       "      <td>0</td>\n",
       "      <td>1</td>\n",
       "      <td>0</td>\n",
       "      <td>0</td>\n",
       "      <td>0</td>\n",
       "      <td>0</td>\n",
       "    </tr>\n",
       "    <tr>\n",
       "      <th>567</th>\n",
       "      <td>65.74</td>\n",
       "      <td>9</td>\n",
       "      <td>29.583</td>\n",
       "      <td>621.243</td>\n",
       "      <td>2019-01-01</td>\n",
       "      <td>591.66</td>\n",
       "      <td>4.761905</td>\n",
       "      <td>29.583</td>\n",
       "      <td>7.7</td>\n",
       "      <td>2019-01-01 13:55:00</td>\n",
       "      <td>...</td>\n",
       "      <td>1</td>\n",
       "      <td>1</td>\n",
       "      <td>0</td>\n",
       "      <td>1</td>\n",
       "      <td>0</td>\n",
       "      <td>0</td>\n",
       "      <td>0</td>\n",
       "      <td>0</td>\n",
       "      <td>0</td>\n",
       "      <td>0</td>\n",
       "    </tr>\n",
       "  </tbody>\n",
       "</table>\n",
       "<p>5 rows × 21 columns</p>\n",
       "</div>"
      ],
      "text/plain": [
       "     Unit price  Quantity  Tax 5%    Total       Date    cogs  \\\n",
       "17        72.61         6  21.783  457.443 2019-01-01  435.66   \n",
       "970       84.63        10  42.315  888.615 2019-01-01  846.30   \n",
       "839       29.22         6   8.766  184.086 2019-01-01  175.32   \n",
       "523       62.87         2   6.287  132.027 2019-01-01  125.74   \n",
       "567       65.74         9  29.583  621.243 2019-01-01  591.66   \n",
       "\n",
       "     gross margin percentage  gross income  Rating           Date_time  ...  \\\n",
       "17                  4.761905        21.783     6.9 2019-01-01 10:39:00  ...   \n",
       "970                 4.761905        42.315     9.0 2019-01-01 11:36:00  ...   \n",
       "839                 4.761905         8.766     5.0 2019-01-01 11:40:00  ...   \n",
       "523                 4.761905         6.287     5.0 2019-01-01 11:43:00  ...   \n",
       "567                 4.761905        29.583     7.7 2019-01-01 13:55:00  ...   \n",
       "\n",
       "     City_Yangon  Customer type_Normal  Gender_Male  \\\n",
       "17             1                     1            1   \n",
       "970            0                     0            0   \n",
       "839            0                     0            0   \n",
       "523            0                     1            1   \n",
       "567            1                     1            0   \n",
       "\n",
       "     Product line_Fashion accessories  Product line_Food and beverages  \\\n",
       "17                                  0                                0   \n",
       "970                                 0                                1   \n",
       "839                                 0                                0   \n",
       "523                                 0                                0   \n",
       "567                                 1                                0   \n",
       "\n",
       "     Product line_Health and beauty  Product line_Home and lifestyle  \\\n",
       "17                                0                                0   \n",
       "970                               0                                0   \n",
       "839                               0                                0   \n",
       "523                               1                                0   \n",
       "567                               0                                0   \n",
       "\n",
       "     Product line_Sports and travel  Payment_Credit card  Payment_Ewallet  \n",
       "17                                1                    1                0  \n",
       "970                               0                    1                0  \n",
       "839                               1                    0                1  \n",
       "523                               0                    0                0  \n",
       "567                               0                    0                0  \n",
       "\n",
       "[5 rows x 21 columns]"
      ]
     },
     "execution_count": 42,
     "metadata": {},
     "output_type": "execute_result"
    }
   ],
   "source": [
    "data_dummies = pd.get_dummies(data, columns=cat_columns, prefix=cat_columns, drop_first=True)\n",
    "data_dummies.head()"
   ]
  },
  {
   "cell_type": "markdown",
   "metadata": {},
   "source": [
    "### Correlation features"
   ]
  },
  {
   "cell_type": "code",
   "execution_count": 43,
   "metadata": {},
   "outputs": [
    {
     "data": {
      "image/png": "[encoded data removed]",
      "text/plain": [
       "<Figure size 2880x2880 with 2 Axes>"
      ]
     },
     "metadata": {
      "needs_background": "light"
     },
     "output_type": "display_data"
    }
   ],
   "source": [
    "fig= plt.figure(figsize=(40,40), )\n",
    "sns.set(font_scale=4)\n",
    "sns.heatmap(data.corr(), annot=True, fmt='.3f')\n",
    "sns.set_style(\"whitegrid\")\n",
    "plt.show()"
   ]
  },
  {
   "cell_type": "markdown",
   "metadata": {},
   "source": [
    "## Prophet  time series (facebook bib)"
   ]
  },
  {
   "cell_type": "code",
   "execution_count": 44,
   "metadata": {},
   "outputs": [
    {
     "data": {
      "text/html": [
       "<div>\n",
       "<style scoped>\n",
       "    .dataframe tbody tr th:only-of-type {\n",
       "        vertical-align: middle;\n",
       "    }\n",
       "\n",
       "    .dataframe tbody tr th {\n",
       "        vertical-align: top;\n",
       "    }\n",
       "\n",
       "    .dataframe thead th {\n",
       "        text-align: right;\n",
       "    }\n",
       "</style>\n",
       "<table border=\"1\" class=\"dataframe\">\n",
       "  <thead>\n",
       "    <tr style=\"text-align: right;\">\n",
       "      <th></th>\n",
       "      <th>City</th>\n",
       "      <th>Customer type</th>\n",
       "      <th>Gender</th>\n",
       "      <th>Product line</th>\n",
       "      <th>Unit price</th>\n",
       "      <th>Quantity</th>\n",
       "      <th>Tax 5%</th>\n",
       "      <th>Total</th>\n",
       "      <th>Date</th>\n",
       "      <th>Payment</th>\n",
       "      <th>cogs</th>\n",
       "      <th>gross margin percentage</th>\n",
       "      <th>gross income</th>\n",
       "      <th>Rating</th>\n",
       "      <th>Date_time</th>\n",
       "    </tr>\n",
       "  </thead>\n",
       "  <tbody>\n",
       "    <tr>\n",
       "      <th>159</th>\n",
       "      <td>Mandalay</td>\n",
       "      <td>Normal</td>\n",
       "      <td>Male</td>\n",
       "      <td>Sports and travel</td>\n",
       "      <td>93.39</td>\n",
       "      <td>6</td>\n",
       "      <td>28.0170</td>\n",
       "      <td>588.3570</td>\n",
       "      <td>2019-03-27</td>\n",
       "      <td>Ewallet</td>\n",
       "      <td>560.34</td>\n",
       "      <td>4.761905</td>\n",
       "      <td>28.0170</td>\n",
       "      <td>10.0</td>\n",
       "      <td>2019-03-27 19:18:00</td>\n",
       "    </tr>\n",
       "    <tr>\n",
       "      <th>910</th>\n",
       "      <td>Mandalay</td>\n",
       "      <td>Member</td>\n",
       "      <td>Female</td>\n",
       "      <td>Food and beverages</td>\n",
       "      <td>29.15</td>\n",
       "      <td>3</td>\n",
       "      <td>4.3725</td>\n",
       "      <td>91.8225</td>\n",
       "      <td>2019-03-27</td>\n",
       "      <td>Credit card</td>\n",
       "      <td>87.45</td>\n",
       "      <td>4.761905</td>\n",
       "      <td>4.3725</td>\n",
       "      <td>7.3</td>\n",
       "      <td>2019-03-27 20:29:00</td>\n",
       "    </tr>\n",
       "    <tr>\n",
       "      <th>208</th>\n",
       "      <td>Mandalay</td>\n",
       "      <td>Normal</td>\n",
       "      <td>Female</td>\n",
       "      <td>Fashion accessories</td>\n",
       "      <td>30.37</td>\n",
       "      <td>3</td>\n",
       "      <td>4.5555</td>\n",
       "      <td>95.6655</td>\n",
       "      <td>2019-03-28</td>\n",
       "      <td>Ewallet</td>\n",
       "      <td>91.11</td>\n",
       "      <td>4.761905</td>\n",
       "      <td>4.5555</td>\n",
       "      <td>5.1</td>\n",
       "      <td>2019-03-28 13:41:00</td>\n",
       "    </tr>\n",
       "    <tr>\n",
       "      <th>96</th>\n",
       "      <td>Mandalay</td>\n",
       "      <td>Normal</td>\n",
       "      <td>Male</td>\n",
       "      <td>Health and beauty</td>\n",
       "      <td>87.87</td>\n",
       "      <td>10</td>\n",
       "      <td>43.9350</td>\n",
       "      <td>922.6350</td>\n",
       "      <td>2019-03-29</td>\n",
       "      <td>Ewallet</td>\n",
       "      <td>878.70</td>\n",
       "      <td>4.761905</td>\n",
       "      <td>43.9350</td>\n",
       "      <td>5.1</td>\n",
       "      <td>2019-03-29 10:25:00</td>\n",
       "    </tr>\n",
       "    <tr>\n",
       "      <th>705</th>\n",
       "      <td>Mandalay</td>\n",
       "      <td>Normal</td>\n",
       "      <td>Male</td>\n",
       "      <td>Health and beauty</td>\n",
       "      <td>71.77</td>\n",
       "      <td>7</td>\n",
       "      <td>25.1195</td>\n",
       "      <td>527.5095</td>\n",
       "      <td>2019-03-29</td>\n",
       "      <td>Cash</td>\n",
       "      <td>502.39</td>\n",
       "      <td>4.761905</td>\n",
       "      <td>25.1195</td>\n",
       "      <td>8.9</td>\n",
       "      <td>2019-03-29 14:06:00</td>\n",
       "    </tr>\n",
       "    <tr>\n",
       "      <th>508</th>\n",
       "      <td>Mandalay</td>\n",
       "      <td>Member</td>\n",
       "      <td>Male</td>\n",
       "      <td>Health and beauty</td>\n",
       "      <td>61.29</td>\n",
       "      <td>5</td>\n",
       "      <td>15.3225</td>\n",
       "      <td>321.7725</td>\n",
       "      <td>2019-03-29</td>\n",
       "      <td>Cash</td>\n",
       "      <td>306.45</td>\n",
       "      <td>4.761905</td>\n",
       "      <td>15.3225</td>\n",
       "      <td>7.0</td>\n",
       "      <td>2019-03-29 14:28:00</td>\n",
       "    </tr>\n",
       "    <tr>\n",
       "      <th>516</th>\n",
       "      <td>Mandalay</td>\n",
       "      <td>Member</td>\n",
       "      <td>Male</td>\n",
       "      <td>Health and beauty</td>\n",
       "      <td>54.86</td>\n",
       "      <td>5</td>\n",
       "      <td>13.7150</td>\n",
       "      <td>288.0150</td>\n",
       "      <td>2019-03-29</td>\n",
       "      <td>Ewallet</td>\n",
       "      <td>274.30</td>\n",
       "      <td>4.761905</td>\n",
       "      <td>13.7150</td>\n",
       "      <td>9.8</td>\n",
       "      <td>2019-03-29 16:48:00</td>\n",
       "    </tr>\n",
       "    <tr>\n",
       "      <th>158</th>\n",
       "      <td>Mandalay</td>\n",
       "      <td>Member</td>\n",
       "      <td>Male</td>\n",
       "      <td>Health and beauty</td>\n",
       "      <td>97.22</td>\n",
       "      <td>9</td>\n",
       "      <td>43.7490</td>\n",
       "      <td>918.7290</td>\n",
       "      <td>2019-03-30</td>\n",
       "      <td>Ewallet</td>\n",
       "      <td>874.98</td>\n",
       "      <td>4.761905</td>\n",
       "      <td>43.7490</td>\n",
       "      <td>6.0</td>\n",
       "      <td>2019-03-30 14:43:00</td>\n",
       "    </tr>\n",
       "    <tr>\n",
       "      <th>671</th>\n",
       "      <td>Mandalay</td>\n",
       "      <td>Member</td>\n",
       "      <td>Male</td>\n",
       "      <td>Food and beverages</td>\n",
       "      <td>93.40</td>\n",
       "      <td>2</td>\n",
       "      <td>9.3400</td>\n",
       "      <td>196.1400</td>\n",
       "      <td>2019-03-30</td>\n",
       "      <td>Cash</td>\n",
       "      <td>186.80</td>\n",
       "      <td>4.761905</td>\n",
       "      <td>9.3400</td>\n",
       "      <td>5.5</td>\n",
       "      <td>2019-03-30 16:34:00</td>\n",
       "    </tr>\n",
       "    <tr>\n",
       "      <th>473</th>\n",
       "      <td>Mandalay</td>\n",
       "      <td>Member</td>\n",
       "      <td>Male</td>\n",
       "      <td>Health and beauty</td>\n",
       "      <td>72.57</td>\n",
       "      <td>8</td>\n",
       "      <td>29.0280</td>\n",
       "      <td>609.5880</td>\n",
       "      <td>2019-03-30</td>\n",
       "      <td>Cash</td>\n",
       "      <td>580.56</td>\n",
       "      <td>4.761905</td>\n",
       "      <td>29.0280</td>\n",
       "      <td>4.6</td>\n",
       "      <td>2019-03-30 17:58:00</td>\n",
       "    </tr>\n",
       "  </tbody>\n",
       "</table>\n",
       "</div>"
      ],
      "text/plain": [
       "         City Customer type  Gender         Product line  Unit price  \\\n",
       "159  Mandalay        Normal    Male    Sports and travel       93.39   \n",
       "910  Mandalay        Member  Female   Food and beverages       29.15   \n",
       "208  Mandalay        Normal  Female  Fashion accessories       30.37   \n",
       "96   Mandalay        Normal    Male    Health and beauty       87.87   \n",
       "705  Mandalay        Normal    Male    Health and beauty       71.77   \n",
       "508  Mandalay        Member    Male    Health and beauty       61.29   \n",
       "516  Mandalay        Member    Male    Health and beauty       54.86   \n",
       "158  Mandalay        Member    Male    Health and beauty       97.22   \n",
       "671  Mandalay        Member    Male   Food and beverages       93.40   \n",
       "473  Mandalay        Member    Male    Health and beauty       72.57   \n",
       "\n",
       "     Quantity   Tax 5%     Total       Date      Payment    cogs  \\\n",
       "159         6  28.0170  588.3570 2019-03-27      Ewallet  560.34   \n",
       "910         3   4.3725   91.8225 2019-03-27  Credit card   87.45   \n",
       "208         3   4.5555   95.6655 2019-03-28      Ewallet   91.11   \n",
       "96         10  43.9350  922.6350 2019-03-29      Ewallet  878.70   \n",
       "705         7  25.1195  527.5095 2019-03-29         Cash  502.39   \n",
       "508         5  15.3225  321.7725 2019-03-29         Cash  306.45   \n",
       "516         5  13.7150  288.0150 2019-03-29      Ewallet  274.30   \n",
       "158         9  43.7490  918.7290 2019-03-30      Ewallet  874.98   \n",
       "671         2   9.3400  196.1400 2019-03-30         Cash  186.80   \n",
       "473         8  29.0280  609.5880 2019-03-30         Cash  580.56   \n",
       "\n",
       "     gross margin percentage  gross income  Rating           Date_time  \n",
       "159                 4.761905       28.0170    10.0 2019-03-27 19:18:00  \n",
       "910                 4.761905        4.3725     7.3 2019-03-27 20:29:00  \n",
       "208                 4.761905        4.5555     5.1 2019-03-28 13:41:00  \n",
       "96                  4.761905       43.9350     5.1 2019-03-29 10:25:00  \n",
       "705                 4.761905       25.1195     8.9 2019-03-29 14:06:00  \n",
       "508                 4.761905       15.3225     7.0 2019-03-29 14:28:00  \n",
       "516                 4.761905       13.7150     9.8 2019-03-29 16:48:00  \n",
       "158                 4.761905       43.7490     6.0 2019-03-30 14:43:00  \n",
       "671                 4.761905        9.3400     5.5 2019-03-30 16:34:00  \n",
       "473                 4.761905       29.0280     4.6 2019-03-30 17:58:00  "
      ]
     },
     "execution_count": 44,
     "metadata": {},
     "output_type": "execute_result"
    }
   ],
   "source": [
    "sns.set(font_scale=1)\n",
    "data_mandalay.sort_values('Date_time', inplace=True)\n",
    "data_mandalay.tail(10)"
   ]
  },
  {
   "cell_type": "code",
   "execution_count": 45,
   "metadata": {},
   "outputs": [
    {
     "data": {
      "text/plain": [
       "2019-03-05    10\n",
       "2019-01-26    10\n",
       "2019-03-02     9\n",
       "2019-02-25     8\n",
       "2019-03-15     8\n",
       "              ..\n",
       "2019-02-19     1\n",
       "2019-02-18     1\n",
       "2019-03-21     1\n",
       "2019-03-23     1\n",
       "2019-01-21     1\n",
       "Name: Date, Length: 86, dtype: int64"
      ]
     },
     "execution_count": 45,
     "metadata": {},
     "output_type": "execute_result"
    }
   ],
   "source": [
    "data_mandalay['Date'].value_counts()"
   ]
  },
  {
   "cell_type": "code",
   "execution_count": 46,
   "metadata": {},
   "outputs": [
    {
     "data": {
      "text/html": [
       "<div>\n",
       "<style scoped>\n",
       "    .dataframe tbody tr th:only-of-type {\n",
       "        vertical-align: middle;\n",
       "    }\n",
       "\n",
       "    .dataframe tbody tr th {\n",
       "        vertical-align: top;\n",
       "    }\n",
       "\n",
       "    .dataframe thead th {\n",
       "        text-align: right;\n",
       "    }\n",
       "</style>\n",
       "<table border=\"1\" class=\"dataframe\">\n",
       "  <thead>\n",
       "    <tr style=\"text-align: right;\">\n",
       "      <th></th>\n",
       "      <th>ds</th>\n",
       "      <th>y</th>\n",
       "    </tr>\n",
       "  </thead>\n",
       "  <tbody>\n",
       "    <tr>\n",
       "      <th>907</th>\n",
       "      <td>2019-03-24 14:08:00</td>\n",
       "      <td>6.6</td>\n",
       "    </tr>\n",
       "    <tr>\n",
       "      <th>662</th>\n",
       "      <td>2019-03-24 18:14:00</td>\n",
       "      <td>5.9</td>\n",
       "    </tr>\n",
       "    <tr>\n",
       "      <th>216</th>\n",
       "      <td>2019-03-24 18:27:00</td>\n",
       "      <td>8.5</td>\n",
       "    </tr>\n",
       "    <tr>\n",
       "      <th>820</th>\n",
       "      <td>2019-03-25 16:32:00</td>\n",
       "      <td>6.7</td>\n",
       "    </tr>\n",
       "    <tr>\n",
       "      <th>503</th>\n",
       "      <td>2019-03-25 17:53:00</td>\n",
       "      <td>6.3</td>\n",
       "    </tr>\n",
       "    <tr>\n",
       "      <th>520</th>\n",
       "      <td>2019-03-26 10:34:00</td>\n",
       "      <td>7.7</td>\n",
       "    </tr>\n",
       "    <tr>\n",
       "      <th>449</th>\n",
       "      <td>2019-03-26 11:02:00</td>\n",
       "      <td>9.6</td>\n",
       "    </tr>\n",
       "    <tr>\n",
       "      <th>748</th>\n",
       "      <td>2019-03-26 19:28:00</td>\n",
       "      <td>8.0</td>\n",
       "    </tr>\n",
       "    <tr>\n",
       "      <th>642</th>\n",
       "      <td>2019-03-27 15:08:00</td>\n",
       "      <td>6.0</td>\n",
       "    </tr>\n",
       "    <tr>\n",
       "      <th>701</th>\n",
       "      <td>2019-03-27 19:11:00</td>\n",
       "      <td>4.3</td>\n",
       "    </tr>\n",
       "    <tr>\n",
       "      <th>159</th>\n",
       "      <td>2019-03-27 19:18:00</td>\n",
       "      <td>10.0</td>\n",
       "    </tr>\n",
       "    <tr>\n",
       "      <th>910</th>\n",
       "      <td>2019-03-27 20:29:00</td>\n",
       "      <td>7.3</td>\n",
       "    </tr>\n",
       "    <tr>\n",
       "      <th>208</th>\n",
       "      <td>2019-03-28 13:41:00</td>\n",
       "      <td>5.1</td>\n",
       "    </tr>\n",
       "    <tr>\n",
       "      <th>96</th>\n",
       "      <td>2019-03-29 10:25:00</td>\n",
       "      <td>5.1</td>\n",
       "    </tr>\n",
       "    <tr>\n",
       "      <th>705</th>\n",
       "      <td>2019-03-29 14:06:00</td>\n",
       "      <td>8.9</td>\n",
       "    </tr>\n",
       "    <tr>\n",
       "      <th>508</th>\n",
       "      <td>2019-03-29 14:28:00</td>\n",
       "      <td>7.0</td>\n",
       "    </tr>\n",
       "    <tr>\n",
       "      <th>516</th>\n",
       "      <td>2019-03-29 16:48:00</td>\n",
       "      <td>9.8</td>\n",
       "    </tr>\n",
       "    <tr>\n",
       "      <th>158</th>\n",
       "      <td>2019-03-30 14:43:00</td>\n",
       "      <td>6.0</td>\n",
       "    </tr>\n",
       "    <tr>\n",
       "      <th>671</th>\n",
       "      <td>2019-03-30 16:34:00</td>\n",
       "      <td>5.5</td>\n",
       "    </tr>\n",
       "    <tr>\n",
       "      <th>473</th>\n",
       "      <td>2019-03-30 17:58:00</td>\n",
       "      <td>4.6</td>\n",
       "    </tr>\n",
       "  </tbody>\n",
       "</table>\n",
       "</div>"
      ],
      "text/plain": [
       "                     ds     y\n",
       "907 2019-03-24 14:08:00   6.6\n",
       "662 2019-03-24 18:14:00   5.9\n",
       "216 2019-03-24 18:27:00   8.5\n",
       "820 2019-03-25 16:32:00   6.7\n",
       "503 2019-03-25 17:53:00   6.3\n",
       "520 2019-03-26 10:34:00   7.7\n",
       "449 2019-03-26 11:02:00   9.6\n",
       "748 2019-03-26 19:28:00   8.0\n",
       "642 2019-03-27 15:08:00   6.0\n",
       "701 2019-03-27 19:11:00   4.3\n",
       "159 2019-03-27 19:18:00  10.0\n",
       "910 2019-03-27 20:29:00   7.3\n",
       "208 2019-03-28 13:41:00   5.1\n",
       "96  2019-03-29 10:25:00   5.1\n",
       "705 2019-03-29 14:06:00   8.9\n",
       "508 2019-03-29 14:28:00   7.0\n",
       "516 2019-03-29 16:48:00   9.8\n",
       "158 2019-03-30 14:43:00   6.0\n",
       "671 2019-03-30 16:34:00   5.5\n",
       "473 2019-03-30 17:58:00   4.6"
      ]
     },
     "execution_count": 46,
     "metadata": {},
     "output_type": "execute_result"
    }
   ],
   "source": [
    "rating_max =  data_mandalay[['Date_time', 'Rating']]\n",
    "rating_max.columns = ['ds', 'y']\n",
    "rating_max.tail(20)"
   ]
  },
  {
   "cell_type": "code",
   "execution_count": 47,
   "metadata": {},
   "outputs": [
    {
     "data": {
      "text/plain": [
       "2019-03-02 19:26:00    2\n",
       "2019-01-04 13:24:00    1\n",
       "2019-02-07 15:06:00    1\n",
       "2019-02-13 13:59:00    1\n",
       "2019-02-05 15:26:00    1\n",
       "                      ..\n",
       "2019-03-15 16:26:00    1\n",
       "2019-03-16 18:51:00    1\n",
       "2019-03-05 20:24:00    1\n",
       "2019-03-06 13:46:00    1\n",
       "2019-03-01 20:03:00    1\n",
       "Name: ds, Length: 331, dtype: int64"
      ]
     },
     "execution_count": 47,
     "metadata": {},
     "output_type": "execute_result"
    }
   ],
   "source": [
    "rating_max['ds'].value_counts()"
   ]
  },
  {
   "cell_type": "markdown",
   "metadata": {},
   "source": [
    "#### train and test with just a day"
   ]
  },
  {
   "cell_type": "code",
   "execution_count": 48,
   "metadata": {},
   "outputs": [],
   "source": [
    "train = rating_max[rating_max['ds'].dt.date == pd.to_datetime('2019-01-26')]\n",
    "test = rating_max[rating_max['ds'].dt.date == pd.to_datetime('2019-03-05')]"
   ]
  },
  {
   "cell_type": "code",
   "execution_count": 49,
   "metadata": {},
   "outputs": [
    {
     "data": {
      "text/plain": [
       "((10, 2), (10, 2))"
      ]
     },
     "execution_count": 49,
     "metadata": {},
     "output_type": "execute_result"
    }
   ],
   "source": [
    "train.shape, test.shape"
   ]
  },
  {
   "cell_type": "code",
   "execution_count": 50,
   "metadata": {},
   "outputs": [],
   "source": [
    "def mean_absolute_percentage_error(y_true, y_pred):\n",
    "    y_true = y_true.values\n",
    "    y_pred = y_pred.values\n",
    "    return np.mean(np.abs((y_true - y_pred) / y_true))"
   ]
  },
  {
   "cell_type": "code",
   "execution_count": 51,
   "metadata": {},
   "outputs": [
    {
     "name": "stdout",
     "output_type": "stream",
     "text": [
      "baseline:  0.39045046244286685\n"
     ]
    }
   ],
   "source": [
    "print('baseline: ', mean_absolute_percentage_error(train['y'], test['y']))"
   ]
  },
  {
   "cell_type": "code",
   "execution_count": 52,
   "metadata": {},
   "outputs": [
    {
     "name": "stderr",
     "output_type": "stream",
     "text": [
      "Importing plotly failed. Interactive plots will not work.\n"
     ]
    }
   ],
   "source": [
    "from fbprophet import Prophet"
   ]
  },
  {
   "cell_type": "code",
   "execution_count": 53,
   "metadata": {},
   "outputs": [
    {
     "name": "stderr",
     "output_type": "stream",
     "text": [
      "INFO:fbprophet:Disabling yearly seasonality. Run prophet with yearly_seasonality=True to override this.\n",
      "INFO:fbprophet:Disabling weekly seasonality. Run prophet with weekly_seasonality=True to override this.\n",
      "INFO:fbprophet:Disabling daily seasonality. Run prophet with daily_seasonality=True to override this.\n",
      "INFO:fbprophet:n_changepoints greater than number of observations. Using 7.\n"
     ]
    },
    {
     "data": {
      "text/plain": [
       "<fbprophet.forecaster.Prophet at 0x7f28a14600b8>"
      ]
     },
     "execution_count": 53,
     "metadata": {},
     "output_type": "execute_result"
    }
   ],
   "source": [
    "prophet =  Prophet()\n",
    "prophet.fit(train)"
   ]
  },
  {
   "cell_type": "code",
   "execution_count": 54,
   "metadata": {},
   "outputs": [
    {
     "data": {
      "text/html": [
       "<div>\n",
       "<style scoped>\n",
       "    .dataframe tbody tr th:only-of-type {\n",
       "        vertical-align: middle;\n",
       "    }\n",
       "\n",
       "    .dataframe tbody tr th {\n",
       "        vertical-align: top;\n",
       "    }\n",
       "\n",
       "    .dataframe thead th {\n",
       "        text-align: right;\n",
       "    }\n",
       "</style>\n",
       "<table border=\"1\" class=\"dataframe\">\n",
       "  <thead>\n",
       "    <tr style=\"text-align: right;\">\n",
       "      <th></th>\n",
       "      <th>ds</th>\n",
       "    </tr>\n",
       "  </thead>\n",
       "  <tbody>\n",
       "    <tr>\n",
       "      <th>5</th>\n",
       "      <td>2019-01-27 02:23:00</td>\n",
       "    </tr>\n",
       "    <tr>\n",
       "      <th>6</th>\n",
       "      <td>2019-01-27 03:23:00</td>\n",
       "    </tr>\n",
       "    <tr>\n",
       "      <th>7</th>\n",
       "      <td>2019-01-27 04:23:00</td>\n",
       "    </tr>\n",
       "    <tr>\n",
       "      <th>8</th>\n",
       "      <td>2019-01-27 05:23:00</td>\n",
       "    </tr>\n",
       "    <tr>\n",
       "      <th>9</th>\n",
       "      <td>2019-01-27 06:23:00</td>\n",
       "    </tr>\n",
       "  </tbody>\n",
       "</table>\n",
       "</div>"
      ],
      "text/plain": [
       "                   ds\n",
       "5 2019-01-27 02:23:00\n",
       "6 2019-01-27 03:23:00\n",
       "7 2019-01-27 04:23:00\n",
       "8 2019-01-27 05:23:00\n",
       "9 2019-01-27 06:23:00"
      ]
     },
     "execution_count": 54,
     "metadata": {},
     "output_type": "execute_result"
    }
   ],
   "source": [
    "future = prophet.make_future_dataframe(10, include_history=False, freq='H')\n",
    "future.tail()"
   ]
  },
  {
   "cell_type": "code",
   "execution_count": 55,
   "metadata": {},
   "outputs": [],
   "source": [
    "predict =  prophet.predict(future)"
   ]
  },
  {
   "cell_type": "code",
   "execution_count": 56,
   "metadata": {},
   "outputs": [
    {
     "data": {
      "text/html": [
       "<div>\n",
       "<style scoped>\n",
       "    .dataframe tbody tr th:only-of-type {\n",
       "        vertical-align: middle;\n",
       "    }\n",
       "\n",
       "    .dataframe tbody tr th {\n",
       "        vertical-align: top;\n",
       "    }\n",
       "\n",
       "    .dataframe thead th {\n",
       "        text-align: right;\n",
       "    }\n",
       "</style>\n",
       "<table border=\"1\" class=\"dataframe\">\n",
       "  <thead>\n",
       "    <tr style=\"text-align: right;\">\n",
       "      <th></th>\n",
       "      <th>ds</th>\n",
       "      <th>trend</th>\n",
       "      <th>yhat_lower</th>\n",
       "      <th>yhat_upper</th>\n",
       "      <th>trend_lower</th>\n",
       "      <th>trend_upper</th>\n",
       "      <th>additive_terms</th>\n",
       "      <th>additive_terms_lower</th>\n",
       "      <th>additive_terms_upper</th>\n",
       "      <th>multiplicative_terms</th>\n",
       "      <th>multiplicative_terms_lower</th>\n",
       "      <th>multiplicative_terms_upper</th>\n",
       "      <th>yhat</th>\n",
       "    </tr>\n",
       "  </thead>\n",
       "  <tbody>\n",
       "    <tr>\n",
       "      <th>0</th>\n",
       "      <td>2019-01-26 21:23:00</td>\n",
       "      <td>4.638402</td>\n",
       "      <td>2.688379</td>\n",
       "      <td>6.650972</td>\n",
       "      <td>4.638402</td>\n",
       "      <td>4.638402</td>\n",
       "      <td>0.0</td>\n",
       "      <td>0.0</td>\n",
       "      <td>0.0</td>\n",
       "      <td>0.0</td>\n",
       "      <td>0.0</td>\n",
       "      <td>0.0</td>\n",
       "      <td>4.638402</td>\n",
       "    </tr>\n",
       "    <tr>\n",
       "      <th>1</th>\n",
       "      <td>2019-01-26 22:23:00</td>\n",
       "      <td>4.166239</td>\n",
       "      <td>2.246548</td>\n",
       "      <td>6.166509</td>\n",
       "      <td>4.166239</td>\n",
       "      <td>4.166240</td>\n",
       "      <td>0.0</td>\n",
       "      <td>0.0</td>\n",
       "      <td>0.0</td>\n",
       "      <td>0.0</td>\n",
       "      <td>0.0</td>\n",
       "      <td>0.0</td>\n",
       "      <td>4.166239</td>\n",
       "    </tr>\n",
       "    <tr>\n",
       "      <th>2</th>\n",
       "      <td>2019-01-26 23:23:00</td>\n",
       "      <td>3.694077</td>\n",
       "      <td>1.759921</td>\n",
       "      <td>5.819965</td>\n",
       "      <td>3.694077</td>\n",
       "      <td>3.694077</td>\n",
       "      <td>0.0</td>\n",
       "      <td>0.0</td>\n",
       "      <td>0.0</td>\n",
       "      <td>0.0</td>\n",
       "      <td>0.0</td>\n",
       "      <td>0.0</td>\n",
       "      <td>3.694077</td>\n",
       "    </tr>\n",
       "    <tr>\n",
       "      <th>3</th>\n",
       "      <td>2019-01-27 00:23:00</td>\n",
       "      <td>3.221915</td>\n",
       "      <td>1.315047</td>\n",
       "      <td>5.200614</td>\n",
       "      <td>3.221915</td>\n",
       "      <td>3.221915</td>\n",
       "      <td>0.0</td>\n",
       "      <td>0.0</td>\n",
       "      <td>0.0</td>\n",
       "      <td>0.0</td>\n",
       "      <td>0.0</td>\n",
       "      <td>0.0</td>\n",
       "      <td>3.221915</td>\n",
       "    </tr>\n",
       "    <tr>\n",
       "      <th>4</th>\n",
       "      <td>2019-01-27 01:23:00</td>\n",
       "      <td>2.749753</td>\n",
       "      <td>0.743534</td>\n",
       "      <td>4.774698</td>\n",
       "      <td>2.749753</td>\n",
       "      <td>2.749753</td>\n",
       "      <td>0.0</td>\n",
       "      <td>0.0</td>\n",
       "      <td>0.0</td>\n",
       "      <td>0.0</td>\n",
       "      <td>0.0</td>\n",
       "      <td>0.0</td>\n",
       "      <td>2.749753</td>\n",
       "    </tr>\n",
       "  </tbody>\n",
       "</table>\n",
       "</div>"
      ],
      "text/plain": [
       "                   ds     trend  yhat_lower  yhat_upper  trend_lower  \\\n",
       "0 2019-01-26 21:23:00  4.638402    2.688379    6.650972     4.638402   \n",
       "1 2019-01-26 22:23:00  4.166239    2.246548    6.166509     4.166239   \n",
       "2 2019-01-26 23:23:00  3.694077    1.759921    5.819965     3.694077   \n",
       "3 2019-01-27 00:23:00  3.221915    1.315047    5.200614     3.221915   \n",
       "4 2019-01-27 01:23:00  2.749753    0.743534    4.774698     2.749753   \n",
       "\n",
       "   trend_upper  additive_terms  additive_terms_lower  additive_terms_upper  \\\n",
       "0     4.638402             0.0                   0.0                   0.0   \n",
       "1     4.166240             0.0                   0.0                   0.0   \n",
       "2     3.694077             0.0                   0.0                   0.0   \n",
       "3     3.221915             0.0                   0.0                   0.0   \n",
       "4     2.749753             0.0                   0.0                   0.0   \n",
       "\n",
       "   multiplicative_terms  multiplicative_terms_lower  \\\n",
       "0                   0.0                         0.0   \n",
       "1                   0.0                         0.0   \n",
       "2                   0.0                         0.0   \n",
       "3                   0.0                         0.0   \n",
       "4                   0.0                         0.0   \n",
       "\n",
       "   multiplicative_terms_upper      yhat  \n",
       "0                         0.0  4.638402  \n",
       "1                         0.0  4.166239  \n",
       "2                         0.0  3.694077  \n",
       "3                         0.0  3.221915  \n",
       "4                         0.0  2.749753  "
      ]
     },
     "execution_count": 56,
     "metadata": {},
     "output_type": "execute_result"
    }
   ],
   "source": [
    "predict.head()"
   ]
  },
  {
   "cell_type": "code",
   "execution_count": 57,
   "metadata": {},
   "outputs": [
    {
     "data": {
      "text/plain": [
       "0.5917483411021857"
      ]
     },
     "execution_count": 57,
     "metadata": {},
     "output_type": "execute_result"
    }
   ],
   "source": [
    "mean_absolute_percentage_error(test['y'], predict['yhat'])"
   ]
  },
  {
   "cell_type": "code",
   "execution_count": 58,
   "metadata": {},
   "outputs": [
    {
     "data": {
      "text/plain": [
       "<matplotlib.axes._subplots.AxesSubplot at 0x7f28a355a4e0>"
      ]
     },
     "execution_count": 58,
     "metadata": {},
     "output_type": "execute_result"
    },
    {
     "data": {
      "image/png": "[encoded data removed]",
      "text/plain": [
       "<Figure size 432x288 with 1 Axes>"
      ]
     },
     "metadata": {},
     "output_type": "display_data"
    }
   ],
   "source": [
    "predict['yhat'].plot()"
   ]
  },
  {
   "cell_type": "code",
   "execution_count": 59,
   "metadata": {},
   "outputs": [],
   "source": [
    "#print(rating_max[rating_max['ds'].isin(pd.date_range(\n",
    "#    '2019-01-01', '2019-03-29 16:48:00', freq='day'))])"
   ]
  },
  {
   "cell_type": "code",
   "execution_count": 60,
   "metadata": {},
   "outputs": [],
   "source": [
    "def run_propeht(train, test):\n",
    "    prophet =  Prophet()\n",
    "    prophet.fit(train)\n",
    "    \n",
    "    future = prophet.make_future_dataframe(10, include_history=False, freq='H')\n",
    "    predict =  prophet.predict(future)\n",
    "    \n",
    "    return prophet, predict, mean_absolute_percentage_error(test['y'], predict['yhat'])"
   ]
  },
  {
   "cell_type": "code",
   "execution_count": 61,
   "metadata": {},
   "outputs": [
    {
     "name": "stderr",
     "output_type": "stream",
     "text": [
      "INFO:fbprophet:Disabling yearly seasonality. Run prophet with yearly_seasonality=True to override this.\n",
      "INFO:fbprophet:Disabling weekly seasonality. Run prophet with weekly_seasonality=True to override this.\n",
      "INFO:fbprophet:Disabling daily seasonality. Run prophet with daily_seasonality=True to override this.\n",
      "INFO:fbprophet:n_changepoints greater than number of observations. Using 7.\n"
     ]
    },
    {
     "data": {
      "text/plain": [
       "(<fbprophet.forecaster.Prophet at 0x7f289dfa6668>,\n",
       "                    ds     trend  yhat_lower  yhat_upper  trend_lower  \\\n",
       " 0 2019-01-26 21:23:00  4.638402    2.665771    6.769420     4.638402   \n",
       " 1 2019-01-26 22:23:00  4.166239    2.194978    6.223158     4.166239   \n",
       " 2 2019-01-26 23:23:00  3.694077    1.776888    5.650480     3.694077   \n",
       " 3 2019-01-27 00:23:00  3.221915    1.232606    5.193106     3.221915   \n",
       " 4 2019-01-27 01:23:00  2.749753    0.758556    4.748985     2.749753   \n",
       " 5 2019-01-27 02:23:00  2.277591    0.466028    4.289599     2.277590   \n",
       " 6 2019-01-27 03:23:00  1.805428   -0.163110    3.714316     1.805428   \n",
       " 7 2019-01-27 04:23:00  1.333266   -0.624849    3.221285     1.333266   \n",
       " 8 2019-01-27 05:23:00  0.861104   -1.115293    2.890890     0.861104   \n",
       " 9 2019-01-27 06:23:00  0.388942   -1.717735    2.320712     0.388941   \n",
       " \n",
       "    trend_upper  additive_terms  additive_terms_lower  additive_terms_upper  \\\n",
       " 0     4.638402             0.0                   0.0                   0.0   \n",
       " 1     4.166240             0.0                   0.0                   0.0   \n",
       " 2     3.694077             0.0                   0.0                   0.0   \n",
       " 3     3.221915             0.0                   0.0                   0.0   \n",
       " 4     2.749753             0.0                   0.0                   0.0   \n",
       " 5     2.277591             0.0                   0.0                   0.0   \n",
       " 6     1.805429             0.0                   0.0                   0.0   \n",
       " 7     1.333267             0.0                   0.0                   0.0   \n",
       " 8     0.861104             0.0                   0.0                   0.0   \n",
       " 9     0.388942             0.0                   0.0                   0.0   \n",
       " \n",
       "    multiplicative_terms  multiplicative_terms_lower  \\\n",
       " 0                   0.0                         0.0   \n",
       " 1                   0.0                         0.0   \n",
       " 2                   0.0                         0.0   \n",
       " 3                   0.0                         0.0   \n",
       " 4                   0.0                         0.0   \n",
       " 5                   0.0                         0.0   \n",
       " 6                   0.0                         0.0   \n",
       " 7                   0.0                         0.0   \n",
       " 8                   0.0                         0.0   \n",
       " 9                   0.0                         0.0   \n",
       " \n",
       "    multiplicative_terms_upper      yhat  \n",
       " 0                         0.0  4.638402  \n",
       " 1                         0.0  4.166239  \n",
       " 2                         0.0  3.694077  \n",
       " 3                         0.0  3.221915  \n",
       " 4                         0.0  2.749753  \n",
       " 5                         0.0  2.277591  \n",
       " 6                         0.0  1.805428  \n",
       " 7                         0.0  1.333266  \n",
       " 8                         0.0  0.861104  \n",
       " 9                         0.0  0.388942  ,\n",
       " 0.5917483411021857)"
      ]
     },
     "execution_count": 61,
     "metadata": {},
     "output_type": "execute_result"
    }
   ],
   "source": [
    "run_propeht(train, test)"
   ]
  },
  {
   "cell_type": "markdown",
   "metadata": {},
   "source": [
    "### tests with dataset training with more days"
   ]
  },
  {
   "cell_type": "markdown",
   "metadata": {},
   "source": [
    "#### new data_set prodline sports with normalization quantity by total value"
   ]
  },
  {
   "cell_type": "code",
   "execution_count": 62,
   "metadata": {},
   "outputs": [
    {
     "data": {
      "text/html": [
       "<div>\n",
       "<style scoped>\n",
       "    .dataframe tbody tr th:only-of-type {\n",
       "        vertical-align: middle;\n",
       "    }\n",
       "\n",
       "    .dataframe tbody tr th {\n",
       "        vertical-align: top;\n",
       "    }\n",
       "\n",
       "    .dataframe thead th {\n",
       "        text-align: right;\n",
       "    }\n",
       "</style>\n",
       "<table border=\"1\" class=\"dataframe\">\n",
       "  <thead>\n",
       "    <tr style=\"text-align: right;\">\n",
       "      <th></th>\n",
       "      <th>City</th>\n",
       "      <th>Customer type</th>\n",
       "      <th>Gender</th>\n",
       "      <th>Product line</th>\n",
       "      <th>Unit price</th>\n",
       "      <th>Quantity</th>\n",
       "      <th>Tax 5%</th>\n",
       "      <th>Total</th>\n",
       "      <th>Date</th>\n",
       "      <th>Payment</th>\n",
       "      <th>cogs</th>\n",
       "      <th>gross margin percentage</th>\n",
       "      <th>gross income</th>\n",
       "      <th>Rating</th>\n",
       "      <th>Date_time</th>\n",
       "    </tr>\n",
       "  </thead>\n",
       "  <tbody>\n",
       "    <tr>\n",
       "      <th>17</th>\n",
       "      <td>Yangon</td>\n",
       "      <td>Normal</td>\n",
       "      <td>Male</td>\n",
       "      <td>Sports and travel</td>\n",
       "      <td>72.61</td>\n",
       "      <td>1.0</td>\n",
       "      <td>21.783</td>\n",
       "      <td>76.2405</td>\n",
       "      <td>2019-01-01</td>\n",
       "      <td>Credit card</td>\n",
       "      <td>435.66</td>\n",
       "      <td>4.761905</td>\n",
       "      <td>21.783</td>\n",
       "      <td>6.9</td>\n",
       "      <td>2019-01-01 10:39:00</td>\n",
       "    </tr>\n",
       "    <tr>\n",
       "      <th>839</th>\n",
       "      <td>Naypyitaw</td>\n",
       "      <td>Member</td>\n",
       "      <td>Female</td>\n",
       "      <td>Sports and travel</td>\n",
       "      <td>29.22</td>\n",
       "      <td>1.0</td>\n",
       "      <td>8.766</td>\n",
       "      <td>30.6810</td>\n",
       "      <td>2019-01-01</td>\n",
       "      <td>Ewallet</td>\n",
       "      <td>175.32</td>\n",
       "      <td>4.761905</td>\n",
       "      <td>8.766</td>\n",
       "      <td>5.0</td>\n",
       "      <td>2019-01-01 11:40:00</td>\n",
       "    </tr>\n",
       "    <tr>\n",
       "      <th>484</th>\n",
       "      <td>Naypyitaw</td>\n",
       "      <td>Member</td>\n",
       "      <td>Female</td>\n",
       "      <td>Sports and travel</td>\n",
       "      <td>36.98</td>\n",
       "      <td>1.0</td>\n",
       "      <td>18.490</td>\n",
       "      <td>38.8290</td>\n",
       "      <td>2019-01-01</td>\n",
       "      <td>Credit card</td>\n",
       "      <td>369.80</td>\n",
       "      <td>4.761905</td>\n",
       "      <td>18.490</td>\n",
       "      <td>7.0</td>\n",
       "      <td>2019-01-01 19:48:00</td>\n",
       "    </tr>\n",
       "    <tr>\n",
       "      <th>696</th>\n",
       "      <td>Yangon</td>\n",
       "      <td>Member</td>\n",
       "      <td>Female</td>\n",
       "      <td>Sports and travel</td>\n",
       "      <td>27.04</td>\n",
       "      <td>1.0</td>\n",
       "      <td>5.408</td>\n",
       "      <td>28.3920</td>\n",
       "      <td>2019-01-01</td>\n",
       "      <td>Ewallet</td>\n",
       "      <td>108.16</td>\n",
       "      <td>4.761905</td>\n",
       "      <td>5.408</td>\n",
       "      <td>6.9</td>\n",
       "      <td>2019-01-01 20:26:00</td>\n",
       "    </tr>\n",
       "    <tr>\n",
       "      <th>744</th>\n",
       "      <td>Naypyitaw</td>\n",
       "      <td>Member</td>\n",
       "      <td>Female</td>\n",
       "      <td>Sports and travel</td>\n",
       "      <td>31.67</td>\n",
       "      <td>1.0</td>\n",
       "      <td>12.668</td>\n",
       "      <td>33.2535</td>\n",
       "      <td>2019-01-02</td>\n",
       "      <td>Credit card</td>\n",
       "      <td>253.36</td>\n",
       "      <td>4.761905</td>\n",
       "      <td>12.668</td>\n",
       "      <td>5.6</td>\n",
       "      <td>2019-01-02 16:19:00</td>\n",
       "    </tr>\n",
       "  </tbody>\n",
       "</table>\n",
       "</div>"
      ],
      "text/plain": [
       "          City Customer type  Gender       Product line  Unit price  Quantity  \\\n",
       "17      Yangon        Normal    Male  Sports and travel       72.61       1.0   \n",
       "839  Naypyitaw        Member  Female  Sports and travel       29.22       1.0   \n",
       "484  Naypyitaw        Member  Female  Sports and travel       36.98       1.0   \n",
       "696     Yangon        Member  Female  Sports and travel       27.04       1.0   \n",
       "744  Naypyitaw        Member  Female  Sports and travel       31.67       1.0   \n",
       "\n",
       "     Tax 5%    Total       Date      Payment    cogs  gross margin percentage  \\\n",
       "17   21.783  76.2405 2019-01-01  Credit card  435.66                 4.761905   \n",
       "839   8.766  30.6810 2019-01-01      Ewallet  175.32                 4.761905   \n",
       "484  18.490  38.8290 2019-01-01  Credit card  369.80                 4.761905   \n",
       "696   5.408  28.3920 2019-01-01      Ewallet  108.16                 4.761905   \n",
       "744  12.668  33.2535 2019-01-02  Credit card  253.36                 4.761905   \n",
       "\n",
       "     gross income  Rating           Date_time  \n",
       "17         21.783     6.9 2019-01-01 10:39:00  \n",
       "839         8.766     5.0 2019-01-01 11:40:00  \n",
       "484        18.490     7.0 2019-01-01 19:48:00  \n",
       "696         5.408     6.9 2019-01-01 20:26:00  \n",
       "744        12.668     5.6 2019-01-02 16:19:00  "
      ]
     },
     "execution_count": 62,
     "metadata": {},
     "output_type": "execute_result"
    }
   ],
   "source": [
    "data_prodline_sports = data[data['Product line'] == 'Sports and travel']\n",
    "data_prodline_sports = data_prodline_sports.sort_values(by='Date_time')\n",
    "data_prodline_sports['Total'] = data_prodline_sports['Total'] / data_prodline_sports['Quantity']\n",
    "data_prodline_sports['Quantity'] = data_prodline_sports['Quantity'] / data_prodline_sports['Quantity'] \n",
    "                        \n",
    "data_prodline_sports.head()"
   ]
  },
  {
   "cell_type": "code",
   "execution_count": 63,
   "metadata": {},
   "outputs": [
    {
     "data": {
      "text/html": [
       "<div>\n",
       "<style scoped>\n",
       "    .dataframe tbody tr th:only-of-type {\n",
       "        vertical-align: middle;\n",
       "    }\n",
       "\n",
       "    .dataframe tbody tr th {\n",
       "        vertical-align: top;\n",
       "    }\n",
       "\n",
       "    .dataframe thead th {\n",
       "        text-align: right;\n",
       "    }\n",
       "</style>\n",
       "<table border=\"1\" class=\"dataframe\">\n",
       "  <thead>\n",
       "    <tr style=\"text-align: right;\">\n",
       "      <th></th>\n",
       "      <th>Unit price</th>\n",
       "      <th>Quantity</th>\n",
       "      <th>Tax 5%</th>\n",
       "      <th>Total</th>\n",
       "      <th>cogs</th>\n",
       "      <th>gross margin percentage</th>\n",
       "      <th>gross income</th>\n",
       "      <th>Rating</th>\n",
       "    </tr>\n",
       "  </thead>\n",
       "  <tbody>\n",
       "    <tr>\n",
       "      <th>count</th>\n",
       "      <td>166.000000</td>\n",
       "      <td>166.0</td>\n",
       "      <td>166.000000</td>\n",
       "      <td>166.000000</td>\n",
       "      <td>166.000000</td>\n",
       "      <td>1.660000e+02</td>\n",
       "      <td>166.000000</td>\n",
       "      <td>166.000000</td>\n",
       "    </tr>\n",
       "    <tr>\n",
       "      <th>mean</th>\n",
       "      <td>56.993253</td>\n",
       "      <td>1.0</td>\n",
       "      <td>15.812630</td>\n",
       "      <td>59.842916</td>\n",
       "      <td>316.252590</td>\n",
       "      <td>4.761905e+00</td>\n",
       "      <td>15.812630</td>\n",
       "      <td>6.916265</td>\n",
       "    </tr>\n",
       "    <tr>\n",
       "      <th>std</th>\n",
       "      <td>26.905015</td>\n",
       "      <td>0.0</td>\n",
       "      <td>11.827397</td>\n",
       "      <td>28.250266</td>\n",
       "      <td>236.547931</td>\n",
       "      <td>8.908658e-16</td>\n",
       "      <td>11.827397</td>\n",
       "      <td>1.714477</td>\n",
       "    </tr>\n",
       "    <tr>\n",
       "      <th>min</th>\n",
       "      <td>10.170000</td>\n",
       "      <td>1.0</td>\n",
       "      <td>0.508500</td>\n",
       "      <td>10.678500</td>\n",
       "      <td>10.170000</td>\n",
       "      <td>4.761905e+00</td>\n",
       "      <td>0.508500</td>\n",
       "      <td>4.000000</td>\n",
       "    </tr>\n",
       "    <tr>\n",
       "      <th>25%</th>\n",
       "      <td>34.417500</td>\n",
       "      <td>1.0</td>\n",
       "      <td>6.345750</td>\n",
       "      <td>36.138375</td>\n",
       "      <td>126.915000</td>\n",
       "      <td>4.761905e+00</td>\n",
       "      <td>6.345750</td>\n",
       "      <td>5.525000</td>\n",
       "    </tr>\n",
       "    <tr>\n",
       "      <th>50%</th>\n",
       "      <td>58.650000</td>\n",
       "      <td>1.0</td>\n",
       "      <td>12.901500</td>\n",
       "      <td>61.582500</td>\n",
       "      <td>258.030000</td>\n",
       "      <td>4.761905e+00</td>\n",
       "      <td>12.901500</td>\n",
       "      <td>6.700000</td>\n",
       "    </tr>\n",
       "    <tr>\n",
       "      <th>75%</th>\n",
       "      <td>80.680000</td>\n",
       "      <td>1.0</td>\n",
       "      <td>22.746875</td>\n",
       "      <td>84.714000</td>\n",
       "      <td>454.937500</td>\n",
       "      <td>4.761905e+00</td>\n",
       "      <td>22.746875</td>\n",
       "      <td>8.450000</td>\n",
       "    </tr>\n",
       "    <tr>\n",
       "      <th>max</th>\n",
       "      <td>99.960000</td>\n",
       "      <td>1.0</td>\n",
       "      <td>47.720000</td>\n",
       "      <td>104.958000</td>\n",
       "      <td>954.400000</td>\n",
       "      <td>4.761905e+00</td>\n",
       "      <td>47.720000</td>\n",
       "      <td>10.000000</td>\n",
       "    </tr>\n",
       "  </tbody>\n",
       "</table>\n",
       "</div>"
      ],
      "text/plain": [
       "       Unit price  Quantity      Tax 5%       Total        cogs  \\\n",
       "count  166.000000     166.0  166.000000  166.000000  166.000000   \n",
       "mean    56.993253       1.0   15.812630   59.842916  316.252590   \n",
       "std     26.905015       0.0   11.827397   28.250266  236.547931   \n",
       "min     10.170000       1.0    0.508500   10.678500   10.170000   \n",
       "25%     34.417500       1.0    6.345750   36.138375  126.915000   \n",
       "50%     58.650000       1.0   12.901500   61.582500  258.030000   \n",
       "75%     80.680000       1.0   22.746875   84.714000  454.937500   \n",
       "max     99.960000       1.0   47.720000  104.958000  954.400000   \n",
       "\n",
       "       gross margin percentage  gross income      Rating  \n",
       "count             1.660000e+02    166.000000  166.000000  \n",
       "mean              4.761905e+00     15.812630    6.916265  \n",
       "std               8.908658e-16     11.827397    1.714477  \n",
       "min               4.761905e+00      0.508500    4.000000  \n",
       "25%               4.761905e+00      6.345750    5.525000  \n",
       "50%               4.761905e+00     12.901500    6.700000  \n",
       "75%               4.761905e+00     22.746875    8.450000  \n",
       "max               4.761905e+00     47.720000   10.000000  "
      ]
     },
     "execution_count": 63,
     "metadata": {},
     "output_type": "execute_result"
    }
   ],
   "source": [
    "data_prodline_sports.describe()"
   ]
  },
  {
   "cell_type": "code",
   "execution_count": 64,
   "metadata": {},
   "outputs": [],
   "source": [
    "from sklearn.preprocessing import MinMaxScaler, StandardScaler\n",
    "scaler = MinMaxScaler()"
   ]
  },
  {
   "cell_type": "code",
   "execution_count": 65,
   "metadata": {},
   "outputs": [
    {
     "data": {
      "text/plain": [
       "MinMaxScaler(copy=True, feature_range=(0, 1))"
      ]
     },
     "execution_count": 65,
     "metadata": {},
     "output_type": "execute_result"
    }
   ],
   "source": [
    "scaler.fit(data_prodline_sports[['Total']])"
   ]
  },
  {
   "cell_type": "code",
   "execution_count": 66,
   "metadata": {},
   "outputs": [],
   "source": [
    "data_prodline_sports[['Total']] = scaler.transform(data_prodline_sports[['Total']])\n",
    "data_prodline_sports[['Total']] = scaler.transform(data_prodline_sports[['Total']])"
   ]
  },
  {
   "cell_type": "code",
   "execution_count": 67,
   "metadata": {},
   "outputs": [
    {
     "data": {
      "text/html": [
       "<div>\n",
       "<style scoped>\n",
       "    .dataframe tbody tr th:only-of-type {\n",
       "        vertical-align: middle;\n",
       "    }\n",
       "\n",
       "    .dataframe tbody tr th {\n",
       "        vertical-align: top;\n",
       "    }\n",
       "\n",
       "    .dataframe thead th {\n",
       "        text-align: right;\n",
       "    }\n",
       "</style>\n",
       "<table border=\"1\" class=\"dataframe\">\n",
       "  <thead>\n",
       "    <tr style=\"text-align: right;\">\n",
       "      <th></th>\n",
       "      <th>City</th>\n",
       "      <th>Customer type</th>\n",
       "      <th>Gender</th>\n",
       "      <th>Product line</th>\n",
       "      <th>Unit price</th>\n",
       "      <th>Quantity</th>\n",
       "      <th>Tax 5%</th>\n",
       "      <th>Total</th>\n",
       "      <th>Date</th>\n",
       "      <th>Payment</th>\n",
       "      <th>cogs</th>\n",
       "      <th>gross margin percentage</th>\n",
       "      <th>gross income</th>\n",
       "      <th>Rating</th>\n",
       "      <th>Date_time</th>\n",
       "    </tr>\n",
       "  </thead>\n",
       "  <tbody>\n",
       "    <tr>\n",
       "      <th>17</th>\n",
       "      <td>Yangon</td>\n",
       "      <td>Normal</td>\n",
       "      <td>Male</td>\n",
       "      <td>Sports and travel</td>\n",
       "      <td>72.61</td>\n",
       "      <td>1.0</td>\n",
       "      <td>21.783</td>\n",
       "      <td>-0.105888</td>\n",
       "      <td>2019-01-01</td>\n",
       "      <td>Credit card</td>\n",
       "      <td>435.66</td>\n",
       "      <td>4.761905</td>\n",
       "      <td>21.783</td>\n",
       "      <td>6.9</td>\n",
       "      <td>2019-01-01 10:39:00</td>\n",
       "    </tr>\n",
       "    <tr>\n",
       "      <th>839</th>\n",
       "      <td>Naypyitaw</td>\n",
       "      <td>Member</td>\n",
       "      <td>Female</td>\n",
       "      <td>Sports and travel</td>\n",
       "      <td>29.22</td>\n",
       "      <td>1.0</td>\n",
       "      <td>8.766</td>\n",
       "      <td>-0.111014</td>\n",
       "      <td>2019-01-01</td>\n",
       "      <td>Ewallet</td>\n",
       "      <td>175.32</td>\n",
       "      <td>4.761905</td>\n",
       "      <td>8.766</td>\n",
       "      <td>5.0</td>\n",
       "      <td>2019-01-01 11:40:00</td>\n",
       "    </tr>\n",
       "    <tr>\n",
       "      <th>484</th>\n",
       "      <td>Naypyitaw</td>\n",
       "      <td>Member</td>\n",
       "      <td>Female</td>\n",
       "      <td>Sports and travel</td>\n",
       "      <td>36.98</td>\n",
       "      <td>1.0</td>\n",
       "      <td>18.490</td>\n",
       "      <td>-0.110097</td>\n",
       "      <td>2019-01-01</td>\n",
       "      <td>Credit card</td>\n",
       "      <td>369.80</td>\n",
       "      <td>4.761905</td>\n",
       "      <td>18.490</td>\n",
       "      <td>7.0</td>\n",
       "      <td>2019-01-01 19:48:00</td>\n",
       "    </tr>\n",
       "    <tr>\n",
       "      <th>696</th>\n",
       "      <td>Yangon</td>\n",
       "      <td>Member</td>\n",
       "      <td>Female</td>\n",
       "      <td>Sports and travel</td>\n",
       "      <td>27.04</td>\n",
       "      <td>1.0</td>\n",
       "      <td>5.408</td>\n",
       "      <td>-0.111271</td>\n",
       "      <td>2019-01-01</td>\n",
       "      <td>Ewallet</td>\n",
       "      <td>108.16</td>\n",
       "      <td>4.761905</td>\n",
       "      <td>5.408</td>\n",
       "      <td>6.9</td>\n",
       "      <td>2019-01-01 20:26:00</td>\n",
       "    </tr>\n",
       "    <tr>\n",
       "      <th>744</th>\n",
       "      <td>Naypyitaw</td>\n",
       "      <td>Member</td>\n",
       "      <td>Female</td>\n",
       "      <td>Sports and travel</td>\n",
       "      <td>31.67</td>\n",
       "      <td>1.0</td>\n",
       "      <td>12.668</td>\n",
       "      <td>-0.110725</td>\n",
       "      <td>2019-01-02</td>\n",
       "      <td>Credit card</td>\n",
       "      <td>253.36</td>\n",
       "      <td>4.761905</td>\n",
       "      <td>12.668</td>\n",
       "      <td>5.6</td>\n",
       "      <td>2019-01-02 16:19:00</td>\n",
       "    </tr>\n",
       "  </tbody>\n",
       "</table>\n",
       "</div>"
      ],
      "text/plain": [
       "          City Customer type  Gender       Product line  Unit price  Quantity  \\\n",
       "17      Yangon        Normal    Male  Sports and travel       72.61       1.0   \n",
       "839  Naypyitaw        Member  Female  Sports and travel       29.22       1.0   \n",
       "484  Naypyitaw        Member  Female  Sports and travel       36.98       1.0   \n",
       "696     Yangon        Member  Female  Sports and travel       27.04       1.0   \n",
       "744  Naypyitaw        Member  Female  Sports and travel       31.67       1.0   \n",
       "\n",
       "     Tax 5%     Total       Date      Payment    cogs  \\\n",
       "17   21.783 -0.105888 2019-01-01  Credit card  435.66   \n",
       "839   8.766 -0.111014 2019-01-01      Ewallet  175.32   \n",
       "484  18.490 -0.110097 2019-01-01  Credit card  369.80   \n",
       "696   5.408 -0.111271 2019-01-01      Ewallet  108.16   \n",
       "744  12.668 -0.110725 2019-01-02  Credit card  253.36   \n",
       "\n",
       "     gross margin percentage  gross income  Rating           Date_time  \n",
       "17                  4.761905        21.783     6.9 2019-01-01 10:39:00  \n",
       "839                 4.761905         8.766     5.0 2019-01-01 11:40:00  \n",
       "484                 4.761905        18.490     7.0 2019-01-01 19:48:00  \n",
       "696                 4.761905         5.408     6.9 2019-01-01 20:26:00  \n",
       "744                 4.761905        12.668     5.6 2019-01-02 16:19:00  "
      ]
     },
     "execution_count": 67,
     "metadata": {},
     "output_type": "execute_result"
    }
   ],
   "source": [
    "data_prodline_sports.head()"
   ]
  },
  {
   "cell_type": "code",
   "execution_count": 68,
   "metadata": {},
   "outputs": [
    {
     "data": {
      "text/html": [
       "<div>\n",
       "<style scoped>\n",
       "    .dataframe tbody tr th:only-of-type {\n",
       "        vertical-align: middle;\n",
       "    }\n",
       "\n",
       "    .dataframe tbody tr th {\n",
       "        vertical-align: top;\n",
       "    }\n",
       "\n",
       "    .dataframe thead th {\n",
       "        text-align: right;\n",
       "    }\n",
       "</style>\n",
       "<table border=\"1\" class=\"dataframe\">\n",
       "  <thead>\n",
       "    <tr style=\"text-align: right;\">\n",
       "      <th></th>\n",
       "      <th>Unit price</th>\n",
       "      <th>Quantity</th>\n",
       "      <th>Tax 5%</th>\n",
       "      <th>Total</th>\n",
       "      <th>cogs</th>\n",
       "      <th>gross margin percentage</th>\n",
       "      <th>gross income</th>\n",
       "      <th>Rating</th>\n",
       "    </tr>\n",
       "  </thead>\n",
       "  <tbody>\n",
       "    <tr>\n",
       "      <th>count</th>\n",
       "      <td>166.000000</td>\n",
       "      <td>166.0</td>\n",
       "      <td>166.000000</td>\n",
       "      <td>166.000000</td>\n",
       "      <td>166.000000</td>\n",
       "      <td>1.660000e+02</td>\n",
       "      <td>166.000000</td>\n",
       "      <td>166.000000</td>\n",
       "    </tr>\n",
       "    <tr>\n",
       "      <th>mean</th>\n",
       "      <td>56.993253</td>\n",
       "      <td>1.0</td>\n",
       "      <td>15.812630</td>\n",
       "      <td>-0.107733</td>\n",
       "      <td>316.252590</td>\n",
       "      <td>4.761905e+00</td>\n",
       "      <td>15.812630</td>\n",
       "      <td>6.916265</td>\n",
       "    </tr>\n",
       "    <tr>\n",
       "      <th>std</th>\n",
       "      <td>26.905015</td>\n",
       "      <td>0.0</td>\n",
       "      <td>11.827397</td>\n",
       "      <td>0.003178</td>\n",
       "      <td>236.547931</td>\n",
       "      <td>8.908658e-16</td>\n",
       "      <td>11.827397</td>\n",
       "      <td>1.714477</td>\n",
       "    </tr>\n",
       "    <tr>\n",
       "      <th>min</th>\n",
       "      <td>10.170000</td>\n",
       "      <td>1.0</td>\n",
       "      <td>0.508500</td>\n",
       "      <td>-0.113264</td>\n",
       "      <td>10.170000</td>\n",
       "      <td>4.761905e+00</td>\n",
       "      <td>0.508500</td>\n",
       "      <td>4.000000</td>\n",
       "    </tr>\n",
       "    <tr>\n",
       "      <th>25%</th>\n",
       "      <td>34.417500</td>\n",
       "      <td>1.0</td>\n",
       "      <td>6.345750</td>\n",
       "      <td>-0.110400</td>\n",
       "      <td>126.915000</td>\n",
       "      <td>4.761905e+00</td>\n",
       "      <td>6.345750</td>\n",
       "      <td>5.525000</td>\n",
       "    </tr>\n",
       "    <tr>\n",
       "      <th>50%</th>\n",
       "      <td>58.650000</td>\n",
       "      <td>1.0</td>\n",
       "      <td>12.901500</td>\n",
       "      <td>-0.107537</td>\n",
       "      <td>258.030000</td>\n",
       "      <td>4.761905e+00</td>\n",
       "      <td>12.901500</td>\n",
       "      <td>6.700000</td>\n",
       "    </tr>\n",
       "    <tr>\n",
       "      <th>75%</th>\n",
       "      <td>80.680000</td>\n",
       "      <td>1.0</td>\n",
       "      <td>22.746875</td>\n",
       "      <td>-0.104935</td>\n",
       "      <td>454.937500</td>\n",
       "      <td>4.761905e+00</td>\n",
       "      <td>22.746875</td>\n",
       "      <td>8.450000</td>\n",
       "    </tr>\n",
       "    <tr>\n",
       "      <th>max</th>\n",
       "      <td>99.960000</td>\n",
       "      <td>1.0</td>\n",
       "      <td>47.720000</td>\n",
       "      <td>-0.102658</td>\n",
       "      <td>954.400000</td>\n",
       "      <td>4.761905e+00</td>\n",
       "      <td>47.720000</td>\n",
       "      <td>10.000000</td>\n",
       "    </tr>\n",
       "  </tbody>\n",
       "</table>\n",
       "</div>"
      ],
      "text/plain": [
       "       Unit price  Quantity      Tax 5%       Total        cogs  \\\n",
       "count  166.000000     166.0  166.000000  166.000000  166.000000   \n",
       "mean    56.993253       1.0   15.812630   -0.107733  316.252590   \n",
       "std     26.905015       0.0   11.827397    0.003178  236.547931   \n",
       "min     10.170000       1.0    0.508500   -0.113264   10.170000   \n",
       "25%     34.417500       1.0    6.345750   -0.110400  126.915000   \n",
       "50%     58.650000       1.0   12.901500   -0.107537  258.030000   \n",
       "75%     80.680000       1.0   22.746875   -0.104935  454.937500   \n",
       "max     99.960000       1.0   47.720000   -0.102658  954.400000   \n",
       "\n",
       "       gross margin percentage  gross income      Rating  \n",
       "count             1.660000e+02    166.000000  166.000000  \n",
       "mean              4.761905e+00     15.812630    6.916265  \n",
       "std               8.908658e-16     11.827397    1.714477  \n",
       "min               4.761905e+00      0.508500    4.000000  \n",
       "25%               4.761905e+00      6.345750    5.525000  \n",
       "50%               4.761905e+00     12.901500    6.700000  \n",
       "75%               4.761905e+00     22.746875    8.450000  \n",
       "max               4.761905e+00     47.720000   10.000000  "
      ]
     },
     "execution_count": 68,
     "metadata": {},
     "output_type": "execute_result"
    }
   ],
   "source": [
    "data_prodline_sports.describe()"
   ]
  },
  {
   "cell_type": "code",
   "execution_count": 69,
   "metadata": {},
   "outputs": [
    {
     "data": {
      "text/html": [
       "<div>\n",
       "<style scoped>\n",
       "    .dataframe tbody tr th:only-of-type {\n",
       "        vertical-align: middle;\n",
       "    }\n",
       "\n",
       "    .dataframe tbody tr th {\n",
       "        vertical-align: top;\n",
       "    }\n",
       "\n",
       "    .dataframe thead th {\n",
       "        text-align: right;\n",
       "    }\n",
       "</style>\n",
       "<table border=\"1\" class=\"dataframe\">\n",
       "  <thead>\n",
       "    <tr style=\"text-align: right;\">\n",
       "      <th></th>\n",
       "      <th>ds</th>\n",
       "      <th>y</th>\n",
       "    </tr>\n",
       "  </thead>\n",
       "  <tbody>\n",
       "    <tr>\n",
       "      <th>832</th>\n",
       "      <td>2019-01-09 16:34:00</td>\n",
       "      <td>-0.113066</td>\n",
       "    </tr>\n",
       "    <tr>\n",
       "      <th>184</th>\n",
       "      <td>2019-03-04 11:19:00</td>\n",
       "      <td>-0.113008</td>\n",
       "    </tr>\n",
       "    <tr>\n",
       "      <th>861</th>\n",
       "      <td>2019-01-08 18:06:00</td>\n",
       "      <td>-0.112958</td>\n",
       "    </tr>\n",
       "    <tr>\n",
       "      <th>767</th>\n",
       "      <td>2019-02-13 13:59:00</td>\n",
       "      <td>-0.112848</td>\n",
       "    </tr>\n",
       "    <tr>\n",
       "      <th>368</th>\n",
       "      <td>2019-01-27 14:28:00</td>\n",
       "      <td>-0.112769</td>\n",
       "    </tr>\n",
       "    <tr>\n",
       "      <th>...</th>\n",
       "      <td>...</td>\n",
       "      <td>...</td>\n",
       "    </tr>\n",
       "    <tr>\n",
       "      <th>498</th>\n",
       "      <td>2019-01-21 17:36:00</td>\n",
       "      <td>-0.102874</td>\n",
       "    </tr>\n",
       "    <tr>\n",
       "      <th>265</th>\n",
       "      <td>2019-03-12 12:43:00</td>\n",
       "      <td>-0.102842</td>\n",
       "    </tr>\n",
       "    <tr>\n",
       "      <th>664</th>\n",
       "      <td>2019-02-21 11:39:00</td>\n",
       "      <td>-0.102795</td>\n",
       "    </tr>\n",
       "    <tr>\n",
       "      <th>435</th>\n",
       "      <td>2019-03-19 19:09:00</td>\n",
       "      <td>-0.102743</td>\n",
       "    </tr>\n",
       "    <tr>\n",
       "      <th>122</th>\n",
       "      <td>2019-03-09 17:26:00</td>\n",
       "      <td>-0.102658</td>\n",
       "    </tr>\n",
       "  </tbody>\n",
       "</table>\n",
       "<p>165 rows × 2 columns</p>\n",
       "</div>"
      ],
      "text/plain": [
       "                     ds         y\n",
       "832 2019-01-09 16:34:00 -0.113066\n",
       "184 2019-03-04 11:19:00 -0.113008\n",
       "861 2019-01-08 18:06:00 -0.112958\n",
       "767 2019-02-13 13:59:00 -0.112848\n",
       "368 2019-01-27 14:28:00 -0.112769\n",
       "..                  ...       ...\n",
       "498 2019-01-21 17:36:00 -0.102874\n",
       "265 2019-03-12 12:43:00 -0.102842\n",
       "664 2019-02-21 11:39:00 -0.102795\n",
       "435 2019-03-19 19:09:00 -0.102743\n",
       "122 2019-03-09 17:26:00 -0.102658\n",
       "\n",
       "[165 rows x 2 columns]"
      ]
     },
     "execution_count": 69,
     "metadata": {},
     "output_type": "execute_result"
    }
   ],
   "source": [
    "total_sports =  data_prodline_sports[['Date_time', 'Total']]\n",
    "total_sports.columns = ['ds', 'y']\n",
    "total_sports = total_sports.drop([822])\n",
    "total_sports.sort_values(by='y')"
   ]
  },
  {
   "cell_type": "code",
   "execution_count": 70,
   "metadata": {},
   "outputs": [
    {
     "data": {
      "text/plain": [
       "<matplotlib.axes._subplots.AxesSubplot at 0x7f28a35467f0>"
      ]
     },
     "execution_count": 70,
     "metadata": {},
     "output_type": "execute_result"
    },
    {
     "data": {
      "image/png": "[encoded data removed]",
      "text/plain": [
       "<Figure size 432x288 with 1 Axes>"
      ]
     },
     "metadata": {},
     "output_type": "display_data"
    }
   ],
   "source": [
    "total_sports.groupby(total_sports['ds'].dt.to_period('M'))['y'].sum().plot(kind='barh')"
   ]
  },
  {
   "cell_type": "code",
   "execution_count": 71,
   "metadata": {},
   "outputs": [
    {
     "data": {
      "text/plain": [
       "<matplotlib.axes._subplots.AxesSubplot at 0x7f289df508d0>"
      ]
     },
     "execution_count": 71,
     "metadata": {},
     "output_type": "execute_result"
    },
    {
     "data": {
      "image/png": "[encoded data removed]",
      "text/plain": [
       "<Figure size 720x360 with 1 Axes>"
      ]
     },
     "metadata": {},
     "output_type": "display_data"
    }
   ],
   "source": [
    "data_naypyitaw.groupby(data_naypyitaw['Date_time'].dt.to_period('M'))['Quantity'].sum().plot(kind='bar', figsize = (10,5))"
   ]
  },
  {
   "cell_type": "code",
   "execution_count": 72,
   "metadata": {},
   "outputs": [
    {
     "data": {
      "text/plain": [
       "(165, 2)"
      ]
     },
     "execution_count": 72,
     "metadata": {},
     "output_type": "execute_result"
    }
   ],
   "source": [
    "total_sports.shape"
   ]
  },
  {
   "cell_type": "code",
   "execution_count": 73,
   "metadata": {},
   "outputs": [],
   "source": [
    "train = total_sports[:17]\n",
    "test = total_sports[17:34]"
   ]
  },
  {
   "cell_type": "code",
   "execution_count": 74,
   "metadata": {},
   "outputs": [
    {
     "name": "stdout",
     "output_type": "stream",
     "text": [
      "baseline:  0.03614363343515732\n"
     ]
    }
   ],
   "source": [
    "print('baseline: ', mean_absolute_percentage_error(train['y'], test['y']))"
   ]
  },
  {
   "cell_type": "code",
   "execution_count": 75,
   "metadata": {},
   "outputs": [],
   "source": [
    "###"
   ]
  },
  {
   "cell_type": "code",
   "execution_count": 76,
   "metadata": {},
   "outputs": [
    {
     "name": "stderr",
     "output_type": "stream",
     "text": [
      "INFO:fbprophet:Disabling yearly seasonality. Run prophet with yearly_seasonality=True to override this.\n",
      "INFO:fbprophet:Disabling weekly seasonality. Run prophet with weekly_seasonality=True to override this.\n",
      "INFO:fbprophet:n_changepoints greater than number of observations. Using 12.\n"
     ]
    },
    {
     "data": {
      "text/plain": [
       "<fbprophet.forecaster.Prophet at 0x7f28a33e8320>"
      ]
     },
     "execution_count": 76,
     "metadata": {},
     "output_type": "execute_result"
    }
   ],
   "source": [
    "prophet =  Prophet()\n",
    "prophet.fit(train)"
   ]
  },
  {
   "cell_type": "code",
   "execution_count": 77,
   "metadata": {},
   "outputs": [
    {
     "data": {
      "text/html": [
       "<div>\n",
       "<style scoped>\n",
       "    .dataframe tbody tr th:only-of-type {\n",
       "        vertical-align: middle;\n",
       "    }\n",
       "\n",
       "    .dataframe tbody tr th {\n",
       "        vertical-align: top;\n",
       "    }\n",
       "\n",
       "    .dataframe thead th {\n",
       "        text-align: right;\n",
       "    }\n",
       "</style>\n",
       "<table border=\"1\" class=\"dataframe\">\n",
       "  <thead>\n",
       "    <tr style=\"text-align: right;\">\n",
       "      <th></th>\n",
       "      <th>ds</th>\n",
       "    </tr>\n",
       "  </thead>\n",
       "  <tbody>\n",
       "    <tr>\n",
       "      <th>12</th>\n",
       "      <td>2019-01-09 07:06:00</td>\n",
       "    </tr>\n",
       "    <tr>\n",
       "      <th>13</th>\n",
       "      <td>2019-01-09 08:06:00</td>\n",
       "    </tr>\n",
       "    <tr>\n",
       "      <th>14</th>\n",
       "      <td>2019-01-09 09:06:00</td>\n",
       "    </tr>\n",
       "    <tr>\n",
       "      <th>15</th>\n",
       "      <td>2019-01-09 10:06:00</td>\n",
       "    </tr>\n",
       "    <tr>\n",
       "      <th>16</th>\n",
       "      <td>2019-01-09 11:06:00</td>\n",
       "    </tr>\n",
       "  </tbody>\n",
       "</table>\n",
       "</div>"
      ],
      "text/plain": [
       "                    ds\n",
       "12 2019-01-09 07:06:00\n",
       "13 2019-01-09 08:06:00\n",
       "14 2019-01-09 09:06:00\n",
       "15 2019-01-09 10:06:00\n",
       "16 2019-01-09 11:06:00"
      ]
     },
     "execution_count": 77,
     "metadata": {},
     "output_type": "execute_result"
    }
   ],
   "source": [
    "future = prophet.make_future_dataframe(17, include_history=False, freq='H')\n",
    "future.tail()"
   ]
  },
  {
   "cell_type": "code",
   "execution_count": 78,
   "metadata": {},
   "outputs": [],
   "source": [
    "predict =  prophet.predict(future)"
   ]
  },
  {
   "cell_type": "code",
   "execution_count": 79,
   "metadata": {},
   "outputs": [
    {
     "data": {
      "text/html": [
       "<div>\n",
       "<style scoped>\n",
       "    .dataframe tbody tr th:only-of-type {\n",
       "        vertical-align: middle;\n",
       "    }\n",
       "\n",
       "    .dataframe tbody tr th {\n",
       "        vertical-align: top;\n",
       "    }\n",
       "\n",
       "    .dataframe thead th {\n",
       "        text-align: right;\n",
       "    }\n",
       "</style>\n",
       "<table border=\"1\" class=\"dataframe\">\n",
       "  <thead>\n",
       "    <tr style=\"text-align: right;\">\n",
       "      <th></th>\n",
       "      <th>ds</th>\n",
       "      <th>trend</th>\n",
       "      <th>yhat_lower</th>\n",
       "      <th>yhat_upper</th>\n",
       "      <th>trend_lower</th>\n",
       "      <th>trend_upper</th>\n",
       "      <th>additive_terms</th>\n",
       "      <th>additive_terms_lower</th>\n",
       "      <th>additive_terms_upper</th>\n",
       "      <th>daily</th>\n",
       "      <th>daily_lower</th>\n",
       "      <th>daily_upper</th>\n",
       "      <th>multiplicative_terms</th>\n",
       "      <th>multiplicative_terms_lower</th>\n",
       "      <th>multiplicative_terms_upper</th>\n",
       "      <th>yhat</th>\n",
       "    </tr>\n",
       "  </thead>\n",
       "  <tbody>\n",
       "    <tr>\n",
       "      <th>0</th>\n",
       "      <td>2019-01-08 19:06:00</td>\n",
       "      <td>0.168161</td>\n",
       "      <td>-0.114705</td>\n",
       "      <td>-0.111301</td>\n",
       "      <td>0.168161</td>\n",
       "      <td>0.168161</td>\n",
       "      <td>-0.281068</td>\n",
       "      <td>-0.281068</td>\n",
       "      <td>-0.281068</td>\n",
       "      <td>-0.281068</td>\n",
       "      <td>-0.281068</td>\n",
       "      <td>-0.281068</td>\n",
       "      <td>0.0</td>\n",
       "      <td>0.0</td>\n",
       "      <td>0.0</td>\n",
       "      <td>-0.112906</td>\n",
       "    </tr>\n",
       "    <tr>\n",
       "      <th>1</th>\n",
       "      <td>2019-01-08 20:06:00</td>\n",
       "      <td>0.168132</td>\n",
       "      <td>-0.113436</td>\n",
       "      <td>-0.110101</td>\n",
       "      <td>0.168132</td>\n",
       "      <td>0.168132</td>\n",
       "      <td>-0.279918</td>\n",
       "      <td>-0.279918</td>\n",
       "      <td>-0.279918</td>\n",
       "      <td>-0.279918</td>\n",
       "      <td>-0.279918</td>\n",
       "      <td>-0.279918</td>\n",
       "      <td>0.0</td>\n",
       "      <td>0.0</td>\n",
       "      <td>0.0</td>\n",
       "      <td>-0.111786</td>\n",
       "    </tr>\n",
       "    <tr>\n",
       "      <th>2</th>\n",
       "      <td>2019-01-08 21:06:00</td>\n",
       "      <td>0.168102</td>\n",
       "      <td>-0.123098</td>\n",
       "      <td>-0.119771</td>\n",
       "      <td>0.168102</td>\n",
       "      <td>0.168102</td>\n",
       "      <td>-0.289477</td>\n",
       "      <td>-0.289477</td>\n",
       "      <td>-0.289477</td>\n",
       "      <td>-0.289477</td>\n",
       "      <td>-0.289477</td>\n",
       "      <td>-0.289477</td>\n",
       "      <td>0.0</td>\n",
       "      <td>0.0</td>\n",
       "      <td>0.0</td>\n",
       "      <td>-0.121375</td>\n",
       "    </tr>\n",
       "    <tr>\n",
       "      <th>3</th>\n",
       "      <td>2019-01-08 22:06:00</td>\n",
       "      <td>0.168073</td>\n",
       "      <td>-0.150100</td>\n",
       "      <td>-0.146866</td>\n",
       "      <td>0.168072</td>\n",
       "      <td>0.168074</td>\n",
       "      <td>-0.316612</td>\n",
       "      <td>-0.316612</td>\n",
       "      <td>-0.316612</td>\n",
       "      <td>-0.316612</td>\n",
       "      <td>-0.316612</td>\n",
       "      <td>-0.316612</td>\n",
       "      <td>0.0</td>\n",
       "      <td>0.0</td>\n",
       "      <td>0.0</td>\n",
       "      <td>-0.148539</td>\n",
       "    </tr>\n",
       "    <tr>\n",
       "      <th>4</th>\n",
       "      <td>2019-01-08 23:06:00</td>\n",
       "      <td>0.168043</td>\n",
       "      <td>-0.169126</td>\n",
       "      <td>-0.165774</td>\n",
       "      <td>0.168041</td>\n",
       "      <td>0.168046</td>\n",
       "      <td>-0.335417</td>\n",
       "      <td>-0.335417</td>\n",
       "      <td>-0.335417</td>\n",
       "      <td>-0.335417</td>\n",
       "      <td>-0.335417</td>\n",
       "      <td>-0.335417</td>\n",
       "      <td>0.0</td>\n",
       "      <td>0.0</td>\n",
       "      <td>0.0</td>\n",
       "      <td>-0.167373</td>\n",
       "    </tr>\n",
       "    <tr>\n",
       "      <th>5</th>\n",
       "      <td>2019-01-09 00:06:00</td>\n",
       "      <td>0.168014</td>\n",
       "      <td>-0.114041</td>\n",
       "      <td>-0.110595</td>\n",
       "      <td>0.168009</td>\n",
       "      <td>0.168019</td>\n",
       "      <td>-0.280402</td>\n",
       "      <td>-0.280402</td>\n",
       "      <td>-0.280402</td>\n",
       "      <td>-0.280402</td>\n",
       "      <td>-0.280402</td>\n",
       "      <td>-0.280402</td>\n",
       "      <td>0.0</td>\n",
       "      <td>0.0</td>\n",
       "      <td>0.0</td>\n",
       "      <td>-0.112388</td>\n",
       "    </tr>\n",
       "    <tr>\n",
       "      <th>6</th>\n",
       "      <td>2019-01-09 01:06:00</td>\n",
       "      <td>0.167984</td>\n",
       "      <td>0.082759</td>\n",
       "      <td>0.086115</td>\n",
       "      <td>0.167977</td>\n",
       "      <td>0.167994</td>\n",
       "      <td>-0.083581</td>\n",
       "      <td>-0.083581</td>\n",
       "      <td>-0.083581</td>\n",
       "      <td>-0.083581</td>\n",
       "      <td>-0.083581</td>\n",
       "      <td>-0.083581</td>\n",
       "      <td>0.0</td>\n",
       "      <td>0.0</td>\n",
       "      <td>0.0</td>\n",
       "      <td>0.084403</td>\n",
       "    </tr>\n",
       "    <tr>\n",
       "      <th>7</th>\n",
       "      <td>2019-01-09 02:06:00</td>\n",
       "      <td>0.167955</td>\n",
       "      <td>0.428832</td>\n",
       "      <td>0.432176</td>\n",
       "      <td>0.167944</td>\n",
       "      <td>0.167966</td>\n",
       "      <td>0.262660</td>\n",
       "      <td>0.262660</td>\n",
       "      <td>0.262660</td>\n",
       "      <td>0.262660</td>\n",
       "      <td>0.262660</td>\n",
       "      <td>0.262660</td>\n",
       "      <td>0.0</td>\n",
       "      <td>0.0</td>\n",
       "      <td>0.0</td>\n",
       "      <td>0.430615</td>\n",
       "    </tr>\n",
       "    <tr>\n",
       "      <th>8</th>\n",
       "      <td>2019-01-09 03:06:00</td>\n",
       "      <td>0.167926</td>\n",
       "      <td>0.834773</td>\n",
       "      <td>0.838190</td>\n",
       "      <td>0.167910</td>\n",
       "      <td>0.167940</td>\n",
       "      <td>0.668661</td>\n",
       "      <td>0.668661</td>\n",
       "      <td>0.668661</td>\n",
       "      <td>0.668661</td>\n",
       "      <td>0.668661</td>\n",
       "      <td>0.668661</td>\n",
       "      <td>0.0</td>\n",
       "      <td>0.0</td>\n",
       "      <td>0.0</td>\n",
       "      <td>0.836586</td>\n",
       "    </tr>\n",
       "    <tr>\n",
       "      <th>9</th>\n",
       "      <td>2019-01-09 04:06:00</td>\n",
       "      <td>0.167896</td>\n",
       "      <td>1.144161</td>\n",
       "      <td>1.147587</td>\n",
       "      <td>0.167876</td>\n",
       "      <td>0.167915</td>\n",
       "      <td>0.978014</td>\n",
       "      <td>0.978014</td>\n",
       "      <td>0.978014</td>\n",
       "      <td>0.978014</td>\n",
       "      <td>0.978014</td>\n",
       "      <td>0.978014</td>\n",
       "      <td>0.0</td>\n",
       "      <td>0.0</td>\n",
       "      <td>0.0</td>\n",
       "      <td>1.145910</td>\n",
       "    </tr>\n",
       "    <tr>\n",
       "      <th>10</th>\n",
       "      <td>2019-01-09 05:06:00</td>\n",
       "      <td>0.167867</td>\n",
       "      <td>1.221285</td>\n",
       "      <td>1.224648</td>\n",
       "      <td>0.167842</td>\n",
       "      <td>0.167889</td>\n",
       "      <td>1.055141</td>\n",
       "      <td>1.055141</td>\n",
       "      <td>1.055141</td>\n",
       "      <td>1.055141</td>\n",
       "      <td>1.055141</td>\n",
       "      <td>1.055141</td>\n",
       "      <td>0.0</td>\n",
       "      <td>0.0</td>\n",
       "      <td>0.0</td>\n",
       "      <td>1.223007</td>\n",
       "    </tr>\n",
       "    <tr>\n",
       "      <th>11</th>\n",
       "      <td>2019-01-09 06:06:00</td>\n",
       "      <td>0.167837</td>\n",
       "      <td>1.035676</td>\n",
       "      <td>1.039030</td>\n",
       "      <td>0.167807</td>\n",
       "      <td>0.167864</td>\n",
       "      <td>0.869488</td>\n",
       "      <td>0.869488</td>\n",
       "      <td>0.869488</td>\n",
       "      <td>0.869488</td>\n",
       "      <td>0.869488</td>\n",
       "      <td>0.869488</td>\n",
       "      <td>0.0</td>\n",
       "      <td>0.0</td>\n",
       "      <td>0.0</td>\n",
       "      <td>1.037325</td>\n",
       "    </tr>\n",
       "    <tr>\n",
       "      <th>12</th>\n",
       "      <td>2019-01-09 07:06:00</td>\n",
       "      <td>0.167808</td>\n",
       "      <td>0.679567</td>\n",
       "      <td>0.682966</td>\n",
       "      <td>0.167773</td>\n",
       "      <td>0.167838</td>\n",
       "      <td>0.513400</td>\n",
       "      <td>0.513400</td>\n",
       "      <td>0.513400</td>\n",
       "      <td>0.513400</td>\n",
       "      <td>0.513400</td>\n",
       "      <td>0.513400</td>\n",
       "      <td>0.0</td>\n",
       "      <td>0.0</td>\n",
       "      <td>0.0</td>\n",
       "      <td>0.681208</td>\n",
       "    </tr>\n",
       "    <tr>\n",
       "      <th>13</th>\n",
       "      <td>2019-01-09 08:06:00</td>\n",
       "      <td>0.167778</td>\n",
       "      <td>0.306919</td>\n",
       "      <td>0.310167</td>\n",
       "      <td>0.167740</td>\n",
       "      <td>0.167815</td>\n",
       "      <td>0.140753</td>\n",
       "      <td>0.140753</td>\n",
       "      <td>0.140753</td>\n",
       "      <td>0.140753</td>\n",
       "      <td>0.140753</td>\n",
       "      <td>0.140753</td>\n",
       "      <td>0.0</td>\n",
       "      <td>0.0</td>\n",
       "      <td>0.0</td>\n",
       "      <td>0.308531</td>\n",
       "    </tr>\n",
       "    <tr>\n",
       "      <th>14</th>\n",
       "      <td>2019-01-09 09:06:00</td>\n",
       "      <td>0.167749</td>\n",
       "      <td>0.040177</td>\n",
       "      <td>0.043422</td>\n",
       "      <td>0.167706</td>\n",
       "      <td>0.167789</td>\n",
       "      <td>-0.125942</td>\n",
       "      <td>-0.125942</td>\n",
       "      <td>-0.125942</td>\n",
       "      <td>-0.125942</td>\n",
       "      <td>-0.125942</td>\n",
       "      <td>-0.125942</td>\n",
       "      <td>0.0</td>\n",
       "      <td>0.0</td>\n",
       "      <td>0.0</td>\n",
       "      <td>0.041807</td>\n",
       "    </tr>\n",
       "    <tr>\n",
       "      <th>15</th>\n",
       "      <td>2019-01-09 10:06:00</td>\n",
       "      <td>0.167719</td>\n",
       "      <td>-0.086314</td>\n",
       "      <td>-0.083114</td>\n",
       "      <td>0.167671</td>\n",
       "      <td>0.167765</td>\n",
       "      <td>-0.252454</td>\n",
       "      <td>-0.252454</td>\n",
       "      <td>-0.252454</td>\n",
       "      <td>-0.252454</td>\n",
       "      <td>-0.252454</td>\n",
       "      <td>-0.252454</td>\n",
       "      <td>0.0</td>\n",
       "      <td>0.0</td>\n",
       "      <td>0.0</td>\n",
       "      <td>-0.084735</td>\n",
       "    </tr>\n",
       "    <tr>\n",
       "      <th>16</th>\n",
       "      <td>2019-01-09 11:06:00</td>\n",
       "      <td>0.167690</td>\n",
       "      <td>-0.115473</td>\n",
       "      <td>-0.112122</td>\n",
       "      <td>0.167636</td>\n",
       "      <td>0.167741</td>\n",
       "      <td>-0.281472</td>\n",
       "      <td>-0.281472</td>\n",
       "      <td>-0.281472</td>\n",
       "      <td>-0.281472</td>\n",
       "      <td>-0.281472</td>\n",
       "      <td>-0.281472</td>\n",
       "      <td>0.0</td>\n",
       "      <td>0.0</td>\n",
       "      <td>0.0</td>\n",
       "      <td>-0.113782</td>\n",
       "    </tr>\n",
       "  </tbody>\n",
       "</table>\n",
       "</div>"
      ],
      "text/plain": [
       "                    ds     trend  yhat_lower  yhat_upper  trend_lower  \\\n",
       "0  2019-01-08 19:06:00  0.168161   -0.114705   -0.111301     0.168161   \n",
       "1  2019-01-08 20:06:00  0.168132   -0.113436   -0.110101     0.168132   \n",
       "2  2019-01-08 21:06:00  0.168102   -0.123098   -0.119771     0.168102   \n",
       "3  2019-01-08 22:06:00  0.168073   -0.150100   -0.146866     0.168072   \n",
       "4  2019-01-08 23:06:00  0.168043   -0.169126   -0.165774     0.168041   \n",
       "5  2019-01-09 00:06:00  0.168014   -0.114041   -0.110595     0.168009   \n",
       "6  2019-01-09 01:06:00  0.167984    0.082759    0.086115     0.167977   \n",
       "7  2019-01-09 02:06:00  0.167955    0.428832    0.432176     0.167944   \n",
       "8  2019-01-09 03:06:00  0.167926    0.834773    0.838190     0.167910   \n",
       "9  2019-01-09 04:06:00  0.167896    1.144161    1.147587     0.167876   \n",
       "10 2019-01-09 05:06:00  0.167867    1.221285    1.224648     0.167842   \n",
       "11 2019-01-09 06:06:00  0.167837    1.035676    1.039030     0.167807   \n",
       "12 2019-01-09 07:06:00  0.167808    0.679567    0.682966     0.167773   \n",
       "13 2019-01-09 08:06:00  0.167778    0.306919    0.310167     0.167740   \n",
       "14 2019-01-09 09:06:00  0.167749    0.040177    0.043422     0.167706   \n",
       "15 2019-01-09 10:06:00  0.167719   -0.086314   -0.083114     0.167671   \n",
       "16 2019-01-09 11:06:00  0.167690   -0.115473   -0.112122     0.167636   \n",
       "\n",
       "    trend_upper  additive_terms  additive_terms_lower  additive_terms_upper  \\\n",
       "0      0.168161       -0.281068             -0.281068             -0.281068   \n",
       "1      0.168132       -0.279918             -0.279918             -0.279918   \n",
       "2      0.168102       -0.289477             -0.289477             -0.289477   \n",
       "3      0.168074       -0.316612             -0.316612             -0.316612   \n",
       "4      0.168046       -0.335417             -0.335417             -0.335417   \n",
       "5      0.168019       -0.280402             -0.280402             -0.280402   \n",
       "6      0.167994       -0.083581             -0.083581             -0.083581   \n",
       "7      0.167966        0.262660              0.262660              0.262660   \n",
       "8      0.167940        0.668661              0.668661              0.668661   \n",
       "9      0.167915        0.978014              0.978014              0.978014   \n",
       "10     0.167889        1.055141              1.055141              1.055141   \n",
       "11     0.167864        0.869488              0.869488              0.869488   \n",
       "12     0.167838        0.513400              0.513400              0.513400   \n",
       "13     0.167815        0.140753              0.140753              0.140753   \n",
       "14     0.167789       -0.125942             -0.125942             -0.125942   \n",
       "15     0.167765       -0.252454             -0.252454             -0.252454   \n",
       "16     0.167741       -0.281472             -0.281472             -0.281472   \n",
       "\n",
       "       daily  daily_lower  daily_upper  multiplicative_terms  \\\n",
       "0  -0.281068    -0.281068    -0.281068                   0.0   \n",
       "1  -0.279918    -0.279918    -0.279918                   0.0   \n",
       "2  -0.289477    -0.289477    -0.289477                   0.0   \n",
       "3  -0.316612    -0.316612    -0.316612                   0.0   \n",
       "4  -0.335417    -0.335417    -0.335417                   0.0   \n",
       "5  -0.280402    -0.280402    -0.280402                   0.0   \n",
       "6  -0.083581    -0.083581    -0.083581                   0.0   \n",
       "7   0.262660     0.262660     0.262660                   0.0   \n",
       "8   0.668661     0.668661     0.668661                   0.0   \n",
       "9   0.978014     0.978014     0.978014                   0.0   \n",
       "10  1.055141     1.055141     1.055141                   0.0   \n",
       "11  0.869488     0.869488     0.869488                   0.0   \n",
       "12  0.513400     0.513400     0.513400                   0.0   \n",
       "13  0.140753     0.140753     0.140753                   0.0   \n",
       "14 -0.125942    -0.125942    -0.125942                   0.0   \n",
       "15 -0.252454    -0.252454    -0.252454                   0.0   \n",
       "16 -0.281472    -0.281472    -0.281472                   0.0   \n",
       "\n",
       "    multiplicative_terms_lower  multiplicative_terms_upper      yhat  \n",
       "0                          0.0                         0.0 -0.112906  \n",
       "1                          0.0                         0.0 -0.111786  \n",
       "2                          0.0                         0.0 -0.121375  \n",
       "3                          0.0                         0.0 -0.148539  \n",
       "4                          0.0                         0.0 -0.167373  \n",
       "5                          0.0                         0.0 -0.112388  \n",
       "6                          0.0                         0.0  0.084403  \n",
       "7                          0.0                         0.0  0.430615  \n",
       "8                          0.0                         0.0  0.836586  \n",
       "9                          0.0                         0.0  1.145910  \n",
       "10                         0.0                         0.0  1.223007  \n",
       "11                         0.0                         0.0  1.037325  \n",
       "12                         0.0                         0.0  0.681208  \n",
       "13                         0.0                         0.0  0.308531  \n",
       "14                         0.0                         0.0  0.041807  \n",
       "15                         0.0                         0.0 -0.084735  \n",
       "16                         0.0                         0.0 -0.113782  "
      ]
     },
     "execution_count": 79,
     "metadata": {},
     "output_type": "execute_result"
    }
   ],
   "source": [
    "predict.head(20)"
   ]
  },
  {
   "cell_type": "code",
   "execution_count": 80,
   "metadata": {},
   "outputs": [
    {
     "data": {
      "image/png": "[encoded data removed]",
      "text/plain": [
       "<Figure size 648x432 with 2 Axes>"
      ]
     },
     "metadata": {},
     "output_type": "display_data"
    }
   ],
   "source": [
    "fig =  prophet.plot_components(predict)"
   ]
  },
  {
   "cell_type": "code",
   "execution_count": null,
   "metadata": {},
   "outputs": [],
   "source": []
  },
  {
   "cell_type": "code",
   "execution_count": 81,
   "metadata": {},
   "outputs": [
    {
     "data": {
      "text/plain": [
       "3.7514902632579195"
      ]
     },
     "execution_count": 81,
     "metadata": {},
     "output_type": "execute_result"
    }
   ],
   "source": [
    "mean_absolute_percentage_error(test['y'], predict['yhat'])"
   ]
  }
 ],
 "metadata": {
  "kernelspec": {
   "display_name": "Python 3",
   "language": "python",
   "name": "python3"
  },
  "language_info": {
   "codemirror_mode": {
    "name": "ipython",
    "version": 3
   },
   "file_extension": ".py",
   "mimetype": "text/x-python",
   "name": "python",
   "nbconvert_exporter": "python",
   "pygments_lexer": "ipython3",
   "version": "3.6.9"
  }
 },
 "nbformat": 4,
 "nbformat_minor": 2
}
